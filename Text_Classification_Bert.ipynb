{
 "cells": [
  {
   "cell_type": "code",
   "execution_count": 12,
   "id": "14719051",
   "metadata": {},
   "outputs": [
    {
     "name": "stdout",
     "output_type": "stream",
     "text": [
      "Requirement already satisfied: pandas in /home/maoik/anaconda3/envs/textProcessBert/lib/python3.9/site-packages (from -r requirements.txt (line 1)) (1.3.4)\n",
      "Requirement already satisfied: matplotlib in /home/maoik/anaconda3/envs/textProcessBert/lib/python3.9/site-packages (from -r requirements.txt (line 2)) (3.5.0)\n",
      "Requirement already satisfied: transformers in /home/maoik/anaconda3/envs/textProcessBert/lib/python3.9/site-packages (from -r requirements.txt (line 3)) (4.12.5)\n",
      "Requirement already satisfied: torch in /home/maoik/anaconda3/envs/textProcessBert/lib/python3.9/site-packages (from -r requirements.txt (line 4)) (1.10.0)\n",
      "Requirement already satisfied: tensorflow in /home/maoik/anaconda3/envs/textProcessBert/lib/python3.9/site-packages (from -r requirements.txt (line 5)) (2.7.0)\n",
      "Requirement already satisfied: petl in /home/maoik/anaconda3/envs/textProcessBert/lib/python3.9/site-packages (from -r requirements.txt (line 6)) (1.7.4)\n",
      "Collecting scikit-learn\n",
      "  Downloading scikit_learn-1.0.1-cp39-cp39-manylinux_2_12_x86_64.manylinux2010_x86_64.whl (24.7 MB)\n",
      "\u001b[K     |████████████████████████████████| 24.7 MB 399 kB/s eta 0:00:01\n",
      "\u001b[?25hRequirement already satisfied: numpy>=1.17.3 in /home/maoik/anaconda3/envs/textProcessBert/lib/python3.9/site-packages (from pandas->-r requirements.txt (line 1)) (1.21.4)\n",
      "Requirement already satisfied: pytz>=2017.3 in /home/maoik/anaconda3/envs/textProcessBert/lib/python3.9/site-packages (from pandas->-r requirements.txt (line 1)) (2021.3)\n",
      "Requirement already satisfied: python-dateutil>=2.7.3 in /home/maoik/anaconda3/envs/textProcessBert/lib/python3.9/site-packages (from pandas->-r requirements.txt (line 1)) (2.8.2)\n",
      "Requirement already satisfied: kiwisolver>=1.0.1 in /home/maoik/anaconda3/envs/textProcessBert/lib/python3.9/site-packages (from matplotlib->-r requirements.txt (line 2)) (1.3.2)\n",
      "Requirement already satisfied: pillow>=6.2.0 in /home/maoik/anaconda3/envs/textProcessBert/lib/python3.9/site-packages (from matplotlib->-r requirements.txt (line 2)) (8.4.0)\n",
      "Requirement already satisfied: cycler>=0.10 in /home/maoik/anaconda3/envs/textProcessBert/lib/python3.9/site-packages (from matplotlib->-r requirements.txt (line 2)) (0.11.0)\n",
      "Requirement already satisfied: setuptools-scm>=4 in /home/maoik/anaconda3/envs/textProcessBert/lib/python3.9/site-packages (from matplotlib->-r requirements.txt (line 2)) (6.3.2)\n",
      "Requirement already satisfied: fonttools>=4.22.0 in /home/maoik/anaconda3/envs/textProcessBert/lib/python3.9/site-packages (from matplotlib->-r requirements.txt (line 2)) (4.28.3)\n",
      "Requirement already satisfied: packaging>=20.0 in /home/maoik/anaconda3/envs/textProcessBert/lib/python3.9/site-packages (from matplotlib->-r requirements.txt (line 2)) (21.3)\n",
      "Requirement already satisfied: pyparsing>=2.2.1 in /home/maoik/anaconda3/envs/textProcessBert/lib/python3.9/site-packages (from matplotlib->-r requirements.txt (line 2)) (3.0.4)\n",
      "Requirement already satisfied: filelock in /home/maoik/anaconda3/envs/textProcessBert/lib/python3.9/site-packages (from transformers->-r requirements.txt (line 3)) (3.4.0)\n",
      "Requirement already satisfied: tqdm>=4.27 in /home/maoik/anaconda3/envs/textProcessBert/lib/python3.9/site-packages (from transformers->-r requirements.txt (line 3)) (4.62.3)\n",
      "Requirement already satisfied: requests in /home/maoik/anaconda3/envs/textProcessBert/lib/python3.9/site-packages (from transformers->-r requirements.txt (line 3)) (2.26.0)\n",
      "Requirement already satisfied: tokenizers<0.11,>=0.10.1 in /home/maoik/anaconda3/envs/textProcessBert/lib/python3.9/site-packages (from transformers->-r requirements.txt (line 3)) (0.10.3)\n",
      "Requirement already satisfied: sacremoses in /home/maoik/anaconda3/envs/textProcessBert/lib/python3.9/site-packages (from transformers->-r requirements.txt (line 3)) (0.0.46)\n",
      "Requirement already satisfied: huggingface-hub<1.0,>=0.1.0 in /home/maoik/anaconda3/envs/textProcessBert/lib/python3.9/site-packages (from transformers->-r requirements.txt (line 3)) (0.2.1)\n",
      "Requirement already satisfied: regex!=2019.12.17 in /home/maoik/anaconda3/envs/textProcessBert/lib/python3.9/site-packages (from transformers->-r requirements.txt (line 3)) (2021.11.10)\n",
      "Requirement already satisfied: pyyaml>=5.1 in /home/maoik/anaconda3/envs/textProcessBert/lib/python3.9/site-packages (from transformers->-r requirements.txt (line 3)) (6.0)\n",
      "Requirement already satisfied: typing-extensions in /home/maoik/anaconda3/envs/textProcessBert/lib/python3.9/site-packages (from torch->-r requirements.txt (line 4)) (4.0.1)\n",
      "Requirement already satisfied: google-pasta>=0.1.1 in /home/maoik/anaconda3/envs/textProcessBert/lib/python3.9/site-packages (from tensorflow->-r requirements.txt (line 5)) (0.2.0)\n",
      "Requirement already satisfied: tensorflow-io-gcs-filesystem>=0.21.0 in /home/maoik/anaconda3/envs/textProcessBert/lib/python3.9/site-packages (from tensorflow->-r requirements.txt (line 5)) (0.22.0)\n",
      "Requirement already satisfied: h5py>=2.9.0 in /home/maoik/anaconda3/envs/textProcessBert/lib/python3.9/site-packages (from tensorflow->-r requirements.txt (line 5)) (3.6.0)\n",
      "Requirement already satisfied: grpcio<2.0,>=1.24.3 in /home/maoik/anaconda3/envs/textProcessBert/lib/python3.9/site-packages (from tensorflow->-r requirements.txt (line 5)) (1.42.0)\n",
      "Requirement already satisfied: termcolor>=1.1.0 in /home/maoik/anaconda3/envs/textProcessBert/lib/python3.9/site-packages (from tensorflow->-r requirements.txt (line 5)) (1.1.0)\n",
      "Requirement already satisfied: opt-einsum>=2.3.2 in /home/maoik/anaconda3/envs/textProcessBert/lib/python3.9/site-packages (from tensorflow->-r requirements.txt (line 5)) (3.3.0)\n",
      "Requirement already satisfied: absl-py>=0.4.0 in /home/maoik/anaconda3/envs/textProcessBert/lib/python3.9/site-packages (from tensorflow->-r requirements.txt (line 5)) (1.0.0)\n",
      "Requirement already satisfied: libclang>=9.0.1 in /home/maoik/anaconda3/envs/textProcessBert/lib/python3.9/site-packages (from tensorflow->-r requirements.txt (line 5)) (12.0.0)\n",
      "Requirement already satisfied: tensorflow-estimator<2.8,~=2.7.0rc0 in /home/maoik/anaconda3/envs/textProcessBert/lib/python3.9/site-packages (from tensorflow->-r requirements.txt (line 5)) (2.7.0)\n",
      "Requirement already satisfied: wheel<1.0,>=0.32.0 in /home/maoik/anaconda3/envs/textProcessBert/lib/python3.9/site-packages (from tensorflow->-r requirements.txt (line 5)) (0.37.0)\n",
      "Requirement already satisfied: gast<0.5.0,>=0.2.1 in /home/maoik/anaconda3/envs/textProcessBert/lib/python3.9/site-packages (from tensorflow->-r requirements.txt (line 5)) (0.4.0)\n",
      "Requirement already satisfied: flatbuffers<3.0,>=1.12 in /home/maoik/anaconda3/envs/textProcessBert/lib/python3.9/site-packages (from tensorflow->-r requirements.txt (line 5)) (2.0)\n",
      "Requirement already satisfied: keras-preprocessing>=1.1.1 in /home/maoik/anaconda3/envs/textProcessBert/lib/python3.9/site-packages (from tensorflow->-r requirements.txt (line 5)) (1.1.2)\n",
      "Requirement already satisfied: tensorboard~=2.6 in /home/maoik/anaconda3/envs/textProcessBert/lib/python3.9/site-packages (from tensorflow->-r requirements.txt (line 5)) (2.7.0)\n",
      "Requirement already satisfied: wrapt>=1.11.0 in /home/maoik/anaconda3/envs/textProcessBert/lib/python3.9/site-packages (from tensorflow->-r requirements.txt (line 5)) (1.13.3)\n",
      "Requirement already satisfied: astunparse>=1.6.0 in /home/maoik/anaconda3/envs/textProcessBert/lib/python3.9/site-packages (from tensorflow->-r requirements.txt (line 5)) (1.6.3)\n",
      "Requirement already satisfied: protobuf>=3.9.2 in /home/maoik/anaconda3/envs/textProcessBert/lib/python3.9/site-packages (from tensorflow->-r requirements.txt (line 5)) (3.19.1)\n",
      "Requirement already satisfied: keras<2.8,>=2.7.0rc0 in /home/maoik/anaconda3/envs/textProcessBert/lib/python3.9/site-packages (from tensorflow->-r requirements.txt (line 5)) (2.7.0)\n",
      "Requirement already satisfied: six>=1.12.0 in /home/maoik/anaconda3/envs/textProcessBert/lib/python3.9/site-packages (from tensorflow->-r requirements.txt (line 5)) (1.16.0)\n",
      "Requirement already satisfied: joblib>=0.11 in /home/maoik/anaconda3/envs/textProcessBert/lib/python3.9/site-packages (from scikit-learn->-r requirements.txt (line 7)) (1.1.0)\n",
      "Collecting threadpoolctl>=2.0.0\n",
      "  Using cached threadpoolctl-3.0.0-py3-none-any.whl (14 kB)\n"
     ]
    },
    {
     "name": "stdout",
     "output_type": "stream",
     "text": [
      "Collecting scipy>=1.1.0\n",
      "  Downloading scipy-1.7.3-cp39-cp39-manylinux_2_17_x86_64.manylinux2014_x86_64.whl (39.8 MB)\n",
      "\u001b[K     |████████████████████████████████| 39.8 MB 2.5 MB/s eta 0:00:01\n",
      "\u001b[?25hRequirement already satisfied: setuptools in /home/maoik/anaconda3/envs/textProcessBert/lib/python3.9/site-packages (from setuptools-scm>=4->matplotlib->-r requirements.txt (line 2)) (58.0.4)\n",
      "Requirement already satisfied: tomli>=1.0.0 in /home/maoik/anaconda3/envs/textProcessBert/lib/python3.9/site-packages (from setuptools-scm>=4->matplotlib->-r requirements.txt (line 2)) (1.2.2)\n",
      "Requirement already satisfied: markdown>=2.6.8 in /home/maoik/anaconda3/envs/textProcessBert/lib/python3.9/site-packages (from tensorboard~=2.6->tensorflow->-r requirements.txt (line 5)) (3.3.6)\n",
      "Requirement already satisfied: tensorboard-data-server<0.7.0,>=0.6.0 in /home/maoik/anaconda3/envs/textProcessBert/lib/python3.9/site-packages (from tensorboard~=2.6->tensorflow->-r requirements.txt (line 5)) (0.6.1)\n",
      "Requirement already satisfied: tensorboard-plugin-wit>=1.6.0 in /home/maoik/anaconda3/envs/textProcessBert/lib/python3.9/site-packages (from tensorboard~=2.6->tensorflow->-r requirements.txt (line 5)) (1.8.0)\n",
      "Requirement already satisfied: werkzeug>=0.11.15 in /home/maoik/anaconda3/envs/textProcessBert/lib/python3.9/site-packages (from tensorboard~=2.6->tensorflow->-r requirements.txt (line 5)) (2.0.2)\n",
      "Requirement already satisfied: google-auth<3,>=1.6.3 in /home/maoik/anaconda3/envs/textProcessBert/lib/python3.9/site-packages (from tensorboard~=2.6->tensorflow->-r requirements.txt (line 5)) (2.3.3)\n",
      "Requirement already satisfied: google-auth-oauthlib<0.5,>=0.4.1 in /home/maoik/anaconda3/envs/textProcessBert/lib/python3.9/site-packages (from tensorboard~=2.6->tensorflow->-r requirements.txt (line 5)) (0.4.6)\n",
      "Requirement already satisfied: pyasn1-modules>=0.2.1 in /home/maoik/anaconda3/envs/textProcessBert/lib/python3.9/site-packages (from google-auth<3,>=1.6.3->tensorboard~=2.6->tensorflow->-r requirements.txt (line 5)) (0.2.8)\n",
      "Requirement already satisfied: cachetools<5.0,>=2.0.0 in /home/maoik/anaconda3/envs/textProcessBert/lib/python3.9/site-packages (from google-auth<3,>=1.6.3->tensorboard~=2.6->tensorflow->-r requirements.txt (line 5)) (4.2.4)\n",
      "Requirement already satisfied: rsa<5,>=3.1.4 in /home/maoik/anaconda3/envs/textProcessBert/lib/python3.9/site-packages (from google-auth<3,>=1.6.3->tensorboard~=2.6->tensorflow->-r requirements.txt (line 5)) (4.8)\n",
      "Requirement already satisfied: requests-oauthlib>=0.7.0 in /home/maoik/anaconda3/envs/textProcessBert/lib/python3.9/site-packages (from google-auth-oauthlib<0.5,>=0.4.1->tensorboard~=2.6->tensorflow->-r requirements.txt (line 5)) (1.3.0)\n",
      "Requirement already satisfied: importlib-metadata>=4.4 in /home/maoik/anaconda3/envs/textProcessBert/lib/python3.9/site-packages (from markdown>=2.6.8->tensorboard~=2.6->tensorflow->-r requirements.txt (line 5)) (4.8.2)\n",
      "Requirement already satisfied: zipp>=0.5 in /home/maoik/anaconda3/envs/textProcessBert/lib/python3.9/site-packages (from importlib-metadata>=4.4->markdown>=2.6.8->tensorboard~=2.6->tensorflow->-r requirements.txt (line 5)) (3.6.0)\n",
      "Requirement already satisfied: pyasn1<0.5.0,>=0.4.6 in /home/maoik/anaconda3/envs/textProcessBert/lib/python3.9/site-packages (from pyasn1-modules>=0.2.1->google-auth<3,>=1.6.3->tensorboard~=2.6->tensorflow->-r requirements.txt (line 5)) (0.4.8)\n",
      "Requirement already satisfied: charset-normalizer~=2.0.0 in /home/maoik/anaconda3/envs/textProcessBert/lib/python3.9/site-packages (from requests->transformers->-r requirements.txt (line 3)) (2.0.9)\n",
      "Requirement already satisfied: urllib3<1.27,>=1.21.1 in /home/maoik/anaconda3/envs/textProcessBert/lib/python3.9/site-packages (from requests->transformers->-r requirements.txt (line 3)) (1.26.7)\n",
      "Requirement already satisfied: idna<4,>=2.5 in /home/maoik/anaconda3/envs/textProcessBert/lib/python3.9/site-packages (from requests->transformers->-r requirements.txt (line 3)) (3.3)\n",
      "Requirement already satisfied: certifi>=2017.4.17 in /home/maoik/anaconda3/envs/textProcessBert/lib/python3.9/site-packages (from requests->transformers->-r requirements.txt (line 3)) (2021.10.8)\n",
      "Requirement already satisfied: oauthlib>=3.0.0 in /home/maoik/anaconda3/envs/textProcessBert/lib/python3.9/site-packages (from requests-oauthlib>=0.7.0->google-auth-oauthlib<0.5,>=0.4.1->tensorboard~=2.6->tensorflow->-r requirements.txt (line 5)) (3.1.1)\n",
      "Requirement already satisfied: click in /home/maoik/anaconda3/envs/textProcessBert/lib/python3.9/site-packages (from sacremoses->transformers->-r requirements.txt (line 3)) (8.0.3)\n",
      "Installing collected packages: threadpoolctl, scipy, scikit-learn\n",
      "Successfully installed scikit-learn-1.0.1 scipy-1.7.3 threadpoolctl-3.0.0\n",
      "Note: you may need to restart the kernel to use updated packages.\n"
     ]
    }
   ],
   "source": [
    "pip install -r requirements.txt"
   ]
  },
  {
   "cell_type": "code",
   "execution_count": 1,
   "id": "75609fe5",
   "metadata": {},
   "outputs": [],
   "source": [
    "import pandas as pd\n",
    "import petl as etl"
   ]
  },
  {
   "cell_type": "code",
   "execution_count": 2,
   "id": "7efb79a5",
   "metadata": {},
   "outputs": [
    {
     "data": {
      "text/html": [
       "<table class='petl'>\n",
       "<thead>\n",
       "<tr>\n",
       "<th>label</th>\n",
       "<th>src_tweet_id</th>\n",
       "</tr>\n",
       "</thead>\n",
       "<tbody>\n",
       "<tr>\n",
       "<td>unverified</td>\n",
       "<td>731166399389962242</td>\n",
       "</tr>\n",
       "<tr>\n",
       "<td>unverified</td>\n",
       "<td>714598641827246081</td>\n",
       "</tr>\n",
       "<tr>\n",
       "<td>non-rumor</td>\n",
       "<td>691809004356501505</td>\n",
       "</tr>\n",
       "<tr>\n",
       "<td>non-rumor</td>\n",
       "<td>693204708933160960</td>\n",
       "</tr>\n",
       "<tr>\n",
       "<td>true</td>\n",
       "<td>551099691702956032</td>\n",
       "</tr>\n",
       "</tbody>\n",
       "</table>\n",
       "<p><strong>...</strong></p>"
      ],
      "text/plain": [
       "+--------------+----------------------+\n",
       "| label        | src_tweet_id         |\n",
       "+==============+======================+\n",
       "| 'unverified' | '731166399389962242' |\n",
       "+--------------+----------------------+\n",
       "| 'unverified' | '714598641827246081' |\n",
       "+--------------+----------------------+\n",
       "| 'non-rumor'  | '691809004356501505' |\n",
       "+--------------+----------------------+\n",
       "| 'non-rumor'  | '693204708933160960' |\n",
       "+--------------+----------------------+\n",
       "| 'true'       | '551099691702956032' |\n",
       "+--------------+----------------------+\n",
       "..."
      ]
     },
     "execution_count": 2,
     "metadata": {},
     "output_type": "execute_result"
    }
   ],
   "source": [
    "# Load file label\n",
    "\n",
    "label1 = etl.fromtext('rumor_detection_acl2017/twitter15/label.txt')\n",
    "label1 = label1.capture('lines', '(.*):(.*)$', ['label', 'src_tweet_id'])\n",
    "label1"
   ]
  },
  {
   "cell_type": "code",
   "execution_count": 3,
   "id": "b97f6c92",
   "metadata": {},
   "outputs": [
    {
     "data": {
      "text/html": [
       "<table class='petl'>\n",
       "<thead>\n",
       "<tr>\n",
       "<th>label</th>\n",
       "<th>src_tweet_id</th>\n",
       "</tr>\n",
       "</thead>\n",
       "<tbody>\n",
       "<tr>\n",
       "<td>false</td>\n",
       "<td>656955120626880512</td>\n",
       "</tr>\n",
       "<tr>\n",
       "<td>true</td>\n",
       "<td>615689290706595840</td>\n",
       "</tr>\n",
       "<tr>\n",
       "<td>false</td>\n",
       "<td>613404935003217920</td>\n",
       "</tr>\n",
       "<tr>\n",
       "<td>unverified</td>\n",
       "<td>731166399389962242</td>\n",
       "</tr>\n",
       "<tr>\n",
       "<td>unverified</td>\n",
       "<td>714598641827246081</td>\n",
       "</tr>\n",
       "</tbody>\n",
       "</table>\n",
       "<p><strong>...</strong></p>"
      ],
      "text/plain": [
       "+--------------+----------------------+\n",
       "| label        | src_tweet_id         |\n",
       "+==============+======================+\n",
       "| 'false'      | '656955120626880512' |\n",
       "+--------------+----------------------+\n",
       "| 'true'       | '615689290706595840' |\n",
       "+--------------+----------------------+\n",
       "| 'false'      | '613404935003217920' |\n",
       "+--------------+----------------------+\n",
       "| 'unverified' | '731166399389962242' |\n",
       "+--------------+----------------------+\n",
       "| 'unverified' | '714598641827246081' |\n",
       "+--------------+----------------------+\n",
       "..."
      ]
     },
     "execution_count": 3,
     "metadata": {},
     "output_type": "execute_result"
    }
   ],
   "source": [
    "# Load file label\n",
    "\n",
    "label2 = etl.fromtext('rumor_detection_acl2017/twitter16/label.txt')\n",
    "label2 = label2.capture('lines', '(.*):(.*)$', ['label', 'src_tweet_id'])\n",
    "label2"
   ]
  },
  {
   "cell_type": "code",
   "execution_count": 4,
   "id": "5ec6bfb9",
   "metadata": {},
   "outputs": [
    {
     "data": {
      "text/html": [
       "<table class='petl'>\n",
       "<thead>\n",
       "<tr>\n",
       "<th>src_tweet_id</th>\n",
       "<th>content</th>\n",
       "</tr>\n",
       "</thead>\n",
       "<tbody>\n",
       "<tr>\n",
       "<td>731166399389962242</td>\n",
       "<td>🔥ca kkk grand wizard 🔥 endorses @hillaryclinton #neverhillary #trump2016 URL</td>\n",
       "</tr>\n",
       "<tr>\n",
       "<td>714598641827246081</td>\n",
       "<td>an open letter to trump voters from his top strategist-turned-defector URL via @xojanedotcom</td>\n",
       "</tr>\n",
       "<tr>\n",
       "<td>691809004356501505</td>\n",
       "<td>\"america is a nation of second chances\" —@potus on new reforms to solitary confinement: URL URL</td>\n",
       "</tr>\n",
       "<tr>\n",
       "<td>693204708933160960</td>\n",
       "<td>brandon marshall visits and offers advice, support to brother of fallen hero zaevion dobson: URL URL</td>\n",
       "</tr>\n",
       "<tr>\n",
       "<td>551099691702956032</td>\n",
       "<td>rip elly may clampett: so sad to learn #beverlyhillbillies star donna douglas has passed away. URL</td>\n",
       "</tr>\n",
       "</tbody>\n",
       "</table>\n",
       "<p><strong>...</strong></p>"
      ],
      "text/plain": [
       "+----------------------+--------------------------------------------------------------------------------------------------------+\n",
       "| src_tweet_id         | content                                                                                                |\n",
       "+======================+========================================================================================================+\n",
       "| '731166399389962242' | '🔥ca kkk grand wizard 🔥 endorses @hillaryclinton #neverhillary #trump2016 URL'                         |\n",
       "+----------------------+--------------------------------------------------------------------------------------------------------+\n",
       "| '714598641827246081' | 'an open letter to trump voters from his top strategist-turned-defector URL via @xojanedotcom'         |\n",
       "+----------------------+--------------------------------------------------------------------------------------------------------+\n",
       "| '691809004356501505' | '\"america is a nation of second chances\" —@potus on new reforms to solitary confinement: URL URL'      |\n",
       "+----------------------+--------------------------------------------------------------------------------------------------------+\n",
       "| '693204708933160960' | 'brandon marshall visits and offers advice, support to brother of fallen hero zaevion dobson: URL URL' |\n",
       "+----------------------+--------------------------------------------------------------------------------------------------------+\n",
       "| '551099691702956032' | 'rip elly may clampett: so sad to learn #beverlyhillbillies star donna douglas has passed away. URL'   |\n",
       "+----------------------+--------------------------------------------------------------------------------------------------------+\n",
       "..."
      ]
     },
     "execution_count": 4,
     "metadata": {},
     "output_type": "execute_result"
    }
   ],
   "source": [
    "# load file source_tweets\n",
    "\n",
    "source_tweet1 = etl.fromtext('rumor_detection_acl2017/twitter15/source_tweets.txt')\n",
    "source_tweet1 = source_tweet1.capture('lines', '(.*)\\t(.*)$', ['src_tweet_id', 'content'])\n",
    "source_tweet1"
   ]
  },
  {
   "cell_type": "code",
   "execution_count": 5,
   "id": "5710e715",
   "metadata": {},
   "outputs": [
    {
     "data": {
      "text/html": [
       "<table class='petl'>\n",
       "<thead>\n",
       "<tr>\n",
       "<th>src_tweet_id</th>\n",
       "<th>content</th>\n",
       "</tr>\n",
       "</thead>\n",
       "<tbody>\n",
       "<tr>\n",
       "<td>656955120626880512</td>\n",
       "<td>correct predictions in back to the future ii URL</td>\n",
       "</tr>\n",
       "<tr>\n",
       "<td>615689290706595840</td>\n",
       "<td>.@whitehouse in rainbow colors for #scotusmarriage? here's what i think about that decision: URL</td>\n",
       "</tr>\n",
       "<tr>\n",
       "<td>613404935003217920</td>\n",
       "<td>cops bought the alleged church shooter burger king hours after killings URL</td>\n",
       "</tr>\n",
       "<tr>\n",
       "<td>731166399389962242</td>\n",
       "<td>🔥ca kkk grand wizard 🔥 endorses @hillaryclinton #neverhillary #trump2016 URL</td>\n",
       "</tr>\n",
       "<tr>\n",
       "<td>714598641827246081</td>\n",
       "<td>an open letter to trump voters from his top strategist-turned-defector URL via @xojanedotcom</td>\n",
       "</tr>\n",
       "</tbody>\n",
       "</table>\n",
       "<p><strong>...</strong></p>"
      ],
      "text/plain": [
       "+----------------------+----------------------------------------------------------------------------------------------------+\n",
       "| src_tweet_id         | content                                                                                            |\n",
       "+======================+====================================================================================================+\n",
       "| '656955120626880512' | 'correct predictions in back to the future ii URL'                                                 |\n",
       "+----------------------+----------------------------------------------------------------------------------------------------+\n",
       "| '615689290706595840' | \".@whitehouse in rainbow colors for #scotusmarriage? here's what i think about that decision: URL\" |\n",
       "+----------------------+----------------------------------------------------------------------------------------------------+\n",
       "| '613404935003217920' | 'cops bought the alleged church shooter burger king hours after killings URL'                      |\n",
       "+----------------------+----------------------------------------------------------------------------------------------------+\n",
       "| '731166399389962242' | '🔥ca kkk grand wizard 🔥 endorses @hillaryclinton #neverhillary #trump2016 URL'                     |\n",
       "+----------------------+----------------------------------------------------------------------------------------------------+\n",
       "| '714598641827246081' | 'an open letter to trump voters from his top strategist-turned-defector URL via @xojanedotcom'     |\n",
       "+----------------------+----------------------------------------------------------------------------------------------------+\n",
       "..."
      ]
     },
     "execution_count": 5,
     "metadata": {},
     "output_type": "execute_result"
    }
   ],
   "source": [
    "# load file source_tweets\n",
    "\n",
    "source_tweet2 = etl.fromtext('rumor_detection_acl2017/twitter16/source_tweets.txt')\n",
    "source_tweet2 = source_tweet2.capture('lines', '(.*)\\t(.*)$', ['src_tweet_id', 'content'])\n",
    "source_tweet2"
   ]
  },
  {
   "cell_type": "code",
   "execution_count": 6,
   "id": "87f81d8e",
   "metadata": {},
   "outputs": [
    {
     "data": {
      "text/html": [
       "<table class='petl'>\n",
       "<thead>\n",
       "<tr>\n",
       "<th>category</th>\n",
       "<th>text</th>\n",
       "</tr>\n",
       "</thead>\n",
       "<tbody>\n",
       "<tr>\n",
       "<td>false</td>\n",
       "<td>deep-fried left wings demo-crab cakes barack-amole & chips malia quesadillas hawaiian pizza sloppy joe bidens obamacare-rot cake</td>\n",
       "</tr>\n",
       "<tr>\n",
       "<td>false</td>\n",
       "<td>42 million dead in bloodiest black friday weekend on record URL</td>\n",
       "</tr>\n",
       "<tr>\n",
       "<td>false</td>\n",
       "<td>42 million dead in bloodiest black friday weekend on record URL</td>\n",
       "</tr>\n",
       "<tr>\n",
       "<td>true</td>\n",
       "<td>#prayforchristopher 5k run .. well we are walking lol @savannahn_2012 @lemongella URL</td>\n",
       "</tr>\n",
       "<tr>\n",
       "<td>false</td>\n",
       "<td>a photo of black nurses saving the life of a kkk member. URL</td>\n",
       "</tr>\n",
       "</tbody>\n",
       "</table>\n",
       "<p><strong>...</strong></p>"
      ],
      "text/plain": [
       "+----------+------------------------------------------------------------------------------------------------------------------------------------+\n",
       "| category | text                                                                                                                               |\n",
       "+==========+====================================================================================================================================+\n",
       "| 'false'  | 'deep-fried left wings demo-crab cakes barack-amole & chips malia quesadillas hawaiian pizza sloppy joe bidens obamacare-rot cake' |\n",
       "+----------+------------------------------------------------------------------------------------------------------------------------------------+\n",
       "| 'false'  | '42 million dead in bloodiest black friday weekend on record URL'                                                                  |\n",
       "+----------+------------------------------------------------------------------------------------------------------------------------------------+\n",
       "| 'false'  | '42 million dead in bloodiest black friday weekend on record URL'                                                                  |\n",
       "+----------+------------------------------------------------------------------------------------------------------------------------------------+\n",
       "| 'true'   | '#prayforchristopher 5k run .. well we are walking lol @savannahn_2012 @lemongella URL'                                            |\n",
       "+----------+------------------------------------------------------------------------------------------------------------------------------------+\n",
       "| 'false'  | 'a photo of black nurses saving the life of a kkk member. URL'                                                                     |\n",
       "+----------+------------------------------------------------------------------------------------------------------------------------------------+\n",
       "..."
      ]
     },
     "execution_count": 6,
     "metadata": {},
     "output_type": "execute_result"
    }
   ],
   "source": [
    "# join table berdasarkan source tweet id\n",
    "# rename header sesuai dengan codingan asal\n",
    "\n",
    "tweet_text1 = etl.join(label1, source_tweet1, key='src_tweet_id')\n",
    "tweet_text1 = etl.cut(tweet_text1, 'label', 'content')\n",
    "tweet_text1 = etl.setheader(tweet_text1, ['category', 'text'])\n",
    "tweet_text1"
   ]
  },
  {
   "cell_type": "code",
   "execution_count": 7,
   "id": "7e32f8db",
   "metadata": {},
   "outputs": [
    {
     "data": {
      "text/html": [
       "<table class='petl'>\n",
       "<thead>\n",
       "<tr>\n",
       "<th>category</th>\n",
       "<th>text</th>\n",
       "</tr>\n",
       "</thead>\n",
       "<tbody>\n",
       "<tr>\n",
       "<td>true</td>\n",
       "<td>witness: police allegedly stopped mike brown after yelling at him to walk on sidewalk. #ferguson URL</td>\n",
       "</tr>\n",
       "<tr>\n",
       "<td>true</td>\n",
       "<td>oh. so now the #ferguson police chief says the cop didn't know about the robbery when he stopped #mikebrown. the kid was \"jaywalking\"? bs!</td>\n",
       "</tr>\n",
       "<tr>\n",
       "<td>true</td>\n",
       "<td>only photo i will tweet. cpr being performed on the soldier now. i heard four shots. #ottawa URL</td>\n",
       "</tr>\n",
       "<tr>\n",
       "<td>true</td>\n",
       "<td>shots fired on parliament hill after a man walked up with a gun. i'm locked in a security office on parliament hill</td>\n",
       "</tr>\n",
       "<tr>\n",
       "<td>true</td>\n",
       "<td>breaking - shooting on parliament hill. rcmp have weapons drawn #cdnpoli URL</td>\n",
       "</tr>\n",
       "</tbody>\n",
       "</table>\n",
       "<p><strong>...</strong></p>"
      ],
      "text/plain": [
       "+----------+-----------------------------------------------------------------------------------------------------------------------------------------------+\n",
       "| category | text                                                                                                                                          |\n",
       "+==========+===============================================================================================================================================+\n",
       "| 'true'   | 'witness: police allegedly stopped mike brown after yelling at him to walk on sidewalk. #ferguson URL'                                        |\n",
       "+----------+-----------------------------------------------------------------------------------------------------------------------------------------------+\n",
       "| 'true'   | 'oh. so now the #ferguson police chief says the cop didn\\'t know about the robbery when he stopped #mikebrown. the kid was \"jaywalking\"? bs!' |\n",
       "+----------+-----------------------------------------------------------------------------------------------------------------------------------------------+\n",
       "| 'true'   | 'only photo i will tweet. cpr being performed on the soldier now. i heard four shots. #ottawa URL'                                            |\n",
       "+----------+-----------------------------------------------------------------------------------------------------------------------------------------------+\n",
       "| 'true'   | \"shots fired on parliament hill after a man walked up with a gun. i'm locked in a security office on parliament hill\"                         |\n",
       "+----------+-----------------------------------------------------------------------------------------------------------------------------------------------+\n",
       "| 'true'   | 'breaking - shooting on parliament hill. rcmp have weapons drawn #cdnpoli URL'                                                                |\n",
       "+----------+-----------------------------------------------------------------------------------------------------------------------------------------------+\n",
       "..."
      ]
     },
     "execution_count": 7,
     "metadata": {},
     "output_type": "execute_result"
    }
   ],
   "source": [
    "tweet_text2 = etl.join(label2, source_tweet2, key='src_tweet_id')\n",
    "tweet_text2 = etl.cut(tweet_text2, 'label', 'content')\n",
    "tweet_text2 = etl.setheader(tweet_text2, ['category', 'text'])\n",
    "tweet_text2"
   ]
  },
  {
   "cell_type": "code",
   "execution_count": null,
   "id": "75270195",
   "metadata": {
    "scrolled": true
   },
   "outputs": [],
   "source": [
    "# untuk mengetahui labelnya apa saja\n",
    "\n",
    "tweet_text1.distinct('category')"
   ]
  },
  {
   "cell_type": "code",
   "execution_count": null,
   "id": "93ac150e",
   "metadata": {},
   "outputs": [],
   "source": [
    "tweet_text2.distinct('category')"
   ]
  },
  {
   "cell_type": "code",
   "execution_count": null,
   "id": "3deff159",
   "metadata": {},
   "outputs": [],
   "source": [
    "print(len(tweet_text1))\n",
    "print(len(tweet_text2))\n",
    "len(tweet_text1)+len(tweet_text2)"
   ]
  },
  {
   "cell_type": "code",
   "execution_count": null,
   "id": "cad12d10",
   "metadata": {},
   "outputs": [],
   "source": [
    "# menyimpan ke file csv\n",
    "\n",
    "etl.tocsv(tweet_text1, 'tweet-text-1.csv')\n",
    "etl.appendcsv(tweet_text2, 'tweet-text-1.csv')"
   ]
  },
  {
   "cell_type": "code",
   "execution_count": 8,
   "id": "58f48b19",
   "metadata": {},
   "outputs": [],
   "source": [
    "tweet_text3 = etl.select(tweet_text1, \"{category} == 'true' or {category} == 'false'\")\n",
    "tweet_text3 = etl.convert(tweet_text3, 'category', 'replace', 'true', 'ya')\n",
    "tweet_text3 = etl.convert(tweet_text3, 'category', 'replace', 'false', 'tidak')\n",
    "\n",
    "tweet_text4 = etl.select(tweet_text2, \"{category} == 'true' or {category} == 'false'\")\n",
    "tweet_text4 = etl.convert(tweet_text4, 'category', 'replace', 'true', 'ya')\n",
    "tweet_text4 = etl.convert(tweet_text4, 'category', 'replace', 'false', 'tidak')\n",
    "\n",
    "etl.tocsv(tweet_text3, 'tweet-text-binary.csv')\n",
    "etl.appendcsv(tweet_text4, 'tweet-text-binary.csv')"
   ]
  },
  {
   "cell_type": "code",
   "execution_count": 2,
   "id": "1212b546",
   "metadata": {},
   "outputs": [
    {
     "data": {
      "text/html": [
       "<div>\n",
       "<style scoped>\n",
       "    .dataframe tbody tr th:only-of-type {\n",
       "        vertical-align: middle;\n",
       "    }\n",
       "\n",
       "    .dataframe tbody tr th {\n",
       "        vertical-align: top;\n",
       "    }\n",
       "\n",
       "    .dataframe thead th {\n",
       "        text-align: right;\n",
       "    }\n",
       "</style>\n",
       "<table border=\"1\" class=\"dataframe\">\n",
       "  <thead>\n",
       "    <tr style=\"text-align: right;\">\n",
       "      <th></th>\n",
       "      <th>category</th>\n",
       "      <th>text</th>\n",
       "    </tr>\n",
       "  </thead>\n",
       "  <tbody>\n",
       "    <tr>\n",
       "      <th>0</th>\n",
       "      <td>tidak</td>\n",
       "      <td>deep-fried left wings demo-crab cakes barack-a...</td>\n",
       "    </tr>\n",
       "    <tr>\n",
       "      <th>1</th>\n",
       "      <td>tidak</td>\n",
       "      <td>42 million dead in bloodiest black friday week...</td>\n",
       "    </tr>\n",
       "    <tr>\n",
       "      <th>2</th>\n",
       "      <td>tidak</td>\n",
       "      <td>42 million dead in bloodiest black friday week...</td>\n",
       "    </tr>\n",
       "    <tr>\n",
       "      <th>3</th>\n",
       "      <td>ya</td>\n",
       "      <td>#prayforchristopher 5k run .. well we are walk...</td>\n",
       "    </tr>\n",
       "    <tr>\n",
       "      <th>4</th>\n",
       "      <td>tidak</td>\n",
       "      <td>a photo of black nurses saving the life of a k...</td>\n",
       "    </tr>\n",
       "  </tbody>\n",
       "</table>\n",
       "</div>"
      ],
      "text/plain": [
       "  category                                               text\n",
       "0    tidak  deep-fried left wings demo-crab cakes barack-a...\n",
       "1    tidak  42 million dead in bloodiest black friday week...\n",
       "2    tidak  42 million dead in bloodiest black friday week...\n",
       "3       ya  #prayforchristopher 5k run .. well we are walk...\n",
       "4    tidak  a photo of black nurses saving the life of a k..."
      ]
     },
     "execution_count": 2,
     "metadata": {},
     "output_type": "execute_result"
    }
   ],
   "source": [
    "# datapath = 'bbc-text.csv'\n",
    "datapath = 'tweet-text-binary.csv'\n",
    "df = pd.read_csv(datapath)\n",
    "df.head()"
   ]
  },
  {
   "cell_type": "code",
   "execution_count": 3,
   "id": "20e2c678",
   "metadata": {},
   "outputs": [
    {
     "data": {
      "text/plain": [
       "<AxesSubplot:xlabel='category'>"
      ]
     },
     "execution_count": 3,
     "metadata": {},
     "output_type": "execute_result"
    },
    {
     "data": {
      "image/png": "[encoded data removed]",
      "text/plain": [
       "<Figure size 432x288 with 1 Axes>"
      ]
     },
     "metadata": {
      "needs_background": "light"
     },
     "output_type": "display_data"
    }
   ],
   "source": [
    "df.groupby(['category']).size().plot.bar()"
   ]
  },
  {
   "cell_type": "code",
   "execution_count": 4,
   "id": "73ed50db",
   "metadata": {},
   "outputs": [],
   "source": [
    "import torch\n",
    "import numpy as np\n",
    "from transformers import BertTokenizer\n",
    "\n",
    "tokenizer = BertTokenizer.from_pretrained('bert-base-cased')\n",
    "# labels = {'business':0,\n",
    "#           'entertainment':1,\n",
    "#           'sport':2,\n",
    "#           'tech':3,\n",
    "#           'politics':4\n",
    "#           }\n",
    "# labels = {'false':0,\n",
    "#           'non-rumor':1,\n",
    "#           'true':2,\n",
    "#           'unverified':3,\n",
    "#           }\n",
    "labels = {'tidak':0,\n",
    "          'ya':1,\n",
    "          }\n",
    "\n",
    "class Dataset(torch.utils.data.Dataset):\n",
    "\n",
    "    def __init__(self, df):\n",
    "\n",
    "        self.labels = [labels[label] for label in df['category']]\n",
    "        self.texts = [tokenizer(text, \n",
    "                               padding='max_length', max_length = 512, truncation=True,\n",
    "                                return_tensors=\"pt\") for text in df['text']]\n",
    "\n",
    "    def classes(self):\n",
    "        return self.labels\n",
    "\n",
    "    def __len__(self):\n",
    "        return len(self.labels)\n",
    "\n",
    "    def get_batch_labels(self, idx):\n",
    "        # Fetch a batch of labels\n",
    "        return np.array(self.labels[idx])\n",
    "\n",
    "    def get_batch_texts(self, idx):\n",
    "        # Fetch a batch of inputs\n",
    "        return self.texts[idx]\n",
    "\n",
    "    def __getitem__(self, idx):\n",
    "\n",
    "        batch_texts = self.get_batch_texts(idx)\n",
    "        batch_y = self.get_batch_labels(idx)\n",
    "\n",
    "        return batch_texts, batch_y"
   ]
  },
  {
   "cell_type": "code",
   "execution_count": 5,
   "id": "cb0e6d5b",
   "metadata": {},
   "outputs": [
    {
     "name": "stdout",
     "output_type": "stream",
     "text": [
      "923 115 116\n"
     ]
    }
   ],
   "source": [
    "np.random.seed(112)\n",
    "df_train, df_val, df_test = np.split(df.sample(frac=1, random_state=42), \n",
    "                                     [int(.8*len(df)), int(.9*len(df))])\n",
    "\n",
    "print(len(df_train),len(df_val), len(df_test))"
   ]
  },
  {
   "cell_type": "code",
   "execution_count": 6,
   "id": "809c5d74",
   "metadata": {},
   "outputs": [],
   "source": [
    "from torch import nn\n",
    "from transformers import BertModel\n",
    "\n",
    "class BertClassifier(nn.Module):\n",
    "\n",
    "    def __init__(self, dropout=0.5):\n",
    "\n",
    "        super(BertClassifier, self).__init__()\n",
    "\n",
    "        self.bert = BertModel.from_pretrained('bert-base-cased')\n",
    "        self.dropout = nn.Dropout(dropout)\n",
    "#         self.linear = nn.Linear(768, 4)\n",
    "        self.linear = nn.Linear(768, 2)\n",
    "        self.relu = nn.ReLU()\n",
    "\n",
    "    def forward(self, input_id, mask):\n",
    "\n",
    "        _, pooled_output = self.bert(input_ids= input_id, attention_mask=mask,return_dict=False)\n",
    "        dropout_output = self.dropout(pooled_output)\n",
    "        linear_output = self.linear(dropout_output)\n",
    "        final_layer = self.relu(linear_output)\n",
    "\n",
    "        return final_layer"
   ]
  },
  {
   "cell_type": "code",
   "execution_count": 7,
   "id": "a6902b64",
   "metadata": {},
   "outputs": [
    {
     "name": "stderr",
     "output_type": "stream",
     "text": [
      "Some weights of the model checkpoint at bert-base-cased were not used when initializing BertModel: ['cls.predictions.transform.LayerNorm.bias', 'cls.predictions.transform.dense.weight', 'cls.seq_relationship.weight', 'cls.predictions.transform.LayerNorm.weight', 'cls.predictions.bias', 'cls.predictions.transform.dense.bias', 'cls.seq_relationship.bias', 'cls.predictions.decoder.weight']\n",
      "- This IS expected if you are initializing BertModel from the checkpoint of a model trained on another task or with another architecture (e.g. initializing a BertForSequenceClassification model from a BertForPreTraining model).\n",
      "- This IS NOT expected if you are initializing BertModel from the checkpoint of a model that you expect to be exactly identical (initializing a BertForSequenceClassification model from a BertForSequenceClassification model).\n",
      "100%|█████████████████████████████████████████████████████████████████████████████████████████████████████████████████████████████| 462/462 [00:40<00:00, 11.36it/s]\n"
     ]
    },
    {
     "name": "stdout",
     "output_type": "stream",
     "text": [
      "Epochs: 1 | Train Loss:  0.352                 | Train Accuracy:  0.504                 | Val Loss:  0.349                 | Val Accuracy:  0.574\n"
     ]
    },
    {
     "name": "stderr",
     "output_type": "stream",
     "text": [
      "100%|█████████████████████████████████████████████████████████████████████████████████████████████████████████████████████████████| 462/462 [00:41<00:00, 11.22it/s]\n"
     ]
    },
    {
     "name": "stdout",
     "output_type": "stream",
     "text": [
      "Epochs: 2 | Train Loss:  0.327                 | Train Accuracy:  0.635                 | Val Loss:  0.325                 | Val Accuracy:  0.661\n"
     ]
    },
    {
     "name": "stderr",
     "output_type": "stream",
     "text": [
      "100%|█████████████████████████████████████████████████████████████████████████████████████████████████████████████████████████████| 462/462 [00:41<00:00, 11.17it/s]\n"
     ]
    },
    {
     "name": "stdout",
     "output_type": "stream",
     "text": [
      "Epochs: 3 | Train Loss:  0.283                 | Train Accuracy:  0.763                 | Val Loss:  0.289                 | Val Accuracy:  0.774\n"
     ]
    },
    {
     "name": "stderr",
     "output_type": "stream",
     "text": [
      "100%|█████████████████████████████████████████████████████████████████████████████████████████████████████████████████████████████| 462/462 [00:43<00:00, 10.57it/s]\n"
     ]
    },
    {
     "name": "stdout",
     "output_type": "stream",
     "text": [
      "Epochs: 4 | Train Loss:  0.229                 | Train Accuracy:  0.818                 | Val Loss:  0.272                 | Val Accuracy:  0.809\n"
     ]
    },
    {
     "name": "stderr",
     "output_type": "stream",
     "text": [
      "100%|█████████████████████████████████████████████████████████████████████████████████████████████████████████████████████████████| 462/462 [00:42<00:00, 10.88it/s]\n"
     ]
    },
    {
     "name": "stdout",
     "output_type": "stream",
     "text": [
      "Epochs: 5 | Train Loss:  0.180                 | Train Accuracy:  0.883                 | Val Loss:  0.248                 | Val Accuracy:  0.809\n"
     ]
    },
    {
     "name": "stderr",
     "output_type": "stream",
     "text": [
      "100%|█████████████████████████████████████████████████████████████████████████████████████████████████████████████████████████████| 462/462 [00:41<00:00, 11.08it/s]\n"
     ]
    },
    {
     "name": "stdout",
     "output_type": "stream",
     "text": [
      "Epochs: 6 | Train Loss:  0.130                 | Train Accuracy:  0.925                 | Val Loss:  0.180                 | Val Accuracy:  0.861\n"
     ]
    },
    {
     "name": "stderr",
     "output_type": "stream",
     "text": [
      "100%|█████████████████████████████████████████████████████████████████████████████████████████████████████████████████████████████| 462/462 [00:41<00:00, 11.04it/s]\n"
     ]
    },
    {
     "name": "stdout",
     "output_type": "stream",
     "text": [
      "Epochs: 7 | Train Loss:  0.097                 | Train Accuracy:  0.951                 | Val Loss:  0.184                 | Val Accuracy:  0.870\n"
     ]
    },
    {
     "name": "stderr",
     "output_type": "stream",
     "text": [
      "100%|█████████████████████████████████████████████████████████████████████████████████████████████████████████████████████████████| 462/462 [00:41<00:00, 11.15it/s]\n"
     ]
    },
    {
     "name": "stdout",
     "output_type": "stream",
     "text": [
      "Epochs: 8 | Train Loss:  0.075                 | Train Accuracy:  0.966                 | Val Loss:  0.237                 | Val Accuracy:  0.791\n"
     ]
    },
    {
     "name": "stderr",
     "output_type": "stream",
     "text": [
      "100%|█████████████████████████████████████████████████████████████████████████████████████████████████████████████████████████████| 462/462 [00:41<00:00, 11.03it/s]\n"
     ]
    },
    {
     "name": "stdout",
     "output_type": "stream",
     "text": [
      "Epochs: 9 | Train Loss:  0.063                 | Train Accuracy:  0.970                 | Val Loss:  0.219                 | Val Accuracy:  0.843\n"
     ]
    },
    {
     "name": "stderr",
     "output_type": "stream",
     "text": [
      "100%|█████████████████████████████████████████████████████████████████████████████████████████████████████████████████████████████| 462/462 [00:41<00:00, 11.23it/s]\n"
     ]
    },
    {
     "name": "stdout",
     "output_type": "stream",
     "text": [
      "Epochs: 10 | Train Loss:  0.056                 | Train Accuracy:  0.973                 | Val Loss:  0.225                 | Val Accuracy:  0.826\n"
     ]
    },
    {
     "name": "stderr",
     "output_type": "stream",
     "text": [
      "100%|█████████████████████████████████████████████████████████████████████████████████████████████████████████████████████████████| 462/462 [00:41<00:00, 11.17it/s]\n"
     ]
    },
    {
     "name": "stdout",
     "output_type": "stream",
     "text": [
      "Epochs: 11 | Train Loss:  0.048                 | Train Accuracy:  0.973                 | Val Loss:  0.249                 | Val Accuracy:  0.817\n"
     ]
    },
    {
     "name": "stderr",
     "output_type": "stream",
     "text": [
      "100%|█████████████████████████████████████████████████████████████████████████████████████████████████████████████████████████████| 462/462 [00:41<00:00, 11.13it/s]\n"
     ]
    },
    {
     "name": "stdout",
     "output_type": "stream",
     "text": [
      "Epochs: 12 | Train Loss:  0.042                 | Train Accuracy:  0.973                 | Val Loss:  0.273                 | Val Accuracy:  0.791\n"
     ]
    },
    {
     "name": "stderr",
     "output_type": "stream",
     "text": [
      "100%|█████████████████████████████████████████████████████████████████████████████████████████████████████████████████████████████| 462/462 [00:41<00:00, 11.17it/s]\n"
     ]
    },
    {
     "name": "stdout",
     "output_type": "stream",
     "text": [
      "Epochs: 13 | Train Loss:  0.037                 | Train Accuracy:  0.973                 | Val Loss:  0.288                 | Val Accuracy:  0.817\n"
     ]
    },
    {
     "name": "stderr",
     "output_type": "stream",
     "text": [
      "100%|█████████████████████████████████████████████████████████████████████████████████████████████████████████████████████████████| 462/462 [00:41<00:00, 11.20it/s]\n"
     ]
    },
    {
     "name": "stdout",
     "output_type": "stream",
     "text": [
      "Epochs: 14 | Train Loss:  0.028                 | Train Accuracy:  0.973                 | Val Loss:  0.273                 | Val Accuracy:  0.809\n"
     ]
    },
    {
     "name": "stderr",
     "output_type": "stream",
     "text": [
      "100%|█████████████████████████████████████████████████████████████████████████████████████████████████████████████████████████████| 462/462 [00:41<00:00, 11.22it/s]\n"
     ]
    },
    {
     "name": "stdout",
     "output_type": "stream",
     "text": [
      "Epochs: 15 | Train Loss:  0.029                 | Train Accuracy:  0.973                 | Val Loss:  0.276                 | Val Accuracy:  0.817\n"
     ]
    },
    {
     "name": "stderr",
     "output_type": "stream",
     "text": [
      "100%|█████████████████████████████████████████████████████████████████████████████████████████████████████████████████████████████| 462/462 [00:41<00:00, 11.08it/s]\n"
     ]
    },
    {
     "name": "stdout",
     "output_type": "stream",
     "text": [
      "Epochs: 16 | Train Loss:  0.029                 | Train Accuracy:  0.971                 | Val Loss:  0.285                 | Val Accuracy:  0.826\n"
     ]
    },
    {
     "name": "stderr",
     "output_type": "stream",
     "text": [
      "100%|█████████████████████████████████████████████████████████████████████████████████████████████████████████████████████████████| 462/462 [00:42<00:00, 10.86it/s]\n"
     ]
    },
    {
     "name": "stdout",
     "output_type": "stream",
     "text": [
      "Epochs: 17 | Train Loss:  0.028                 | Train Accuracy:  0.972                 | Val Loss:  0.247                 | Val Accuracy:  0.878\n"
     ]
    },
    {
     "name": "stderr",
     "output_type": "stream",
     "text": [
      "100%|█████████████████████████████████████████████████████████████████████████████████████████████████████████████████████████████| 462/462 [00:41<00:00, 11.13it/s]\n"
     ]
    },
    {
     "name": "stdout",
     "output_type": "stream",
     "text": [
      "Epochs: 18 | Train Loss:  0.025                 | Train Accuracy:  0.973                 | Val Loss:  0.222                 | Val Accuracy:  0.861\n"
     ]
    },
    {
     "name": "stderr",
     "output_type": "stream",
     "text": [
      "100%|█████████████████████████████████████████████████████████████████████████████████████████████████████████████████████████████| 462/462 [00:41<00:00, 11.19it/s]\n"
     ]
    },
    {
     "name": "stdout",
     "output_type": "stream",
     "text": [
      "Epochs: 19 | Train Loss:  0.021                 | Train Accuracy:  0.973                 | Val Loss:  0.242                 | Val Accuracy:  0.843\n"
     ]
    },
    {
     "name": "stderr",
     "output_type": "stream",
     "text": [
      "100%|█████████████████████████████████████████████████████████████████████████████████████████████████████████████████████████████| 462/462 [00:42<00:00, 10.94it/s]\n"
     ]
    },
    {
     "name": "stdout",
     "output_type": "stream",
     "text": [
      "Epochs: 20 | Train Loss:  0.021                 | Train Accuracy:  0.973                 | Val Loss:  0.254                 | Val Accuracy:  0.852\n"
     ]
    }
   ],
   "source": [
    "from torch.optim import Adam\n",
    "from tqdm import tqdm\n",
    "\n",
    "def train(model, train_data, val_data, learning_rate, epochs):\n",
    "\n",
    "    train, val = Dataset(train_data), Dataset(val_data)\n",
    "\n",
    "    train_dataloader = torch.utils.data.DataLoader(train, batch_size=2, shuffle=True)\n",
    "    val_dataloader = torch.utils.data.DataLoader(val, batch_size=2)\n",
    "\n",
    "    use_cuda = torch.cuda.is_available()\n",
    "    device = torch.device(\"cuda\" if use_cuda else \"cpu\")\n",
    "\n",
    "    criterion = nn.CrossEntropyLoss()\n",
    "    optimizer = Adam(model.parameters(), lr= learning_rate)\n",
    "\n",
    "    if use_cuda:\n",
    "\n",
    "            model = model.cuda()\n",
    "            criterion = criterion.cuda()\n",
    "\n",
    "    for epoch_num in range(epochs):\n",
    "\n",
    "            total_acc_train = 0\n",
    "            total_loss_train = 0\n",
    "\n",
    "            for train_input, train_label in tqdm(train_dataloader):\n",
    "\n",
    "                train_label = train_label.to(device)\n",
    "                mask = train_input['attention_mask'].to(device)\n",
    "                input_id = train_input['input_ids'].squeeze(1).to(device)\n",
    "\n",
    "                output = model(input_id, mask)\n",
    "                \n",
    "                batch_loss = criterion(output, train_label)\n",
    "                total_loss_train += batch_loss.item()\n",
    "                \n",
    "                acc = (output.argmax(dim=1) == train_label).sum().item()\n",
    "                total_acc_train += acc\n",
    "\n",
    "                model.zero_grad()\n",
    "                batch_loss.backward()\n",
    "                optimizer.step()\n",
    "            \n",
    "            total_acc_val = 0\n",
    "            total_loss_val = 0\n",
    "\n",
    "            with torch.no_grad():\n",
    "\n",
    "                for val_input, val_label in val_dataloader:\n",
    "\n",
    "                    val_label = val_label.to(device)\n",
    "                    mask = val_input['attention_mask'].to(device)\n",
    "                    input_id = val_input['input_ids'].squeeze(1).to(device)\n",
    "\n",
    "                    output = model(input_id, mask)\n",
    "\n",
    "                    batch_loss = criterion(output, val_label)\n",
    "                    total_loss_val += batch_loss.item()\n",
    "                    \n",
    "                    acc = (output.argmax(dim=1) == val_label).sum().item()\n",
    "                    total_acc_val += acc\n",
    "            \n",
    "            print(\n",
    "                f'Epochs: {epoch_num + 1} | Train Loss: {total_loss_train / len(train_data): .3f} \\\n",
    "                | Train Accuracy: {total_acc_train / len(train_data): .3f} \\\n",
    "                | Val Loss: {total_loss_val / len(val_data): .3f} \\\n",
    "                | Val Accuracy: {total_acc_val / len(val_data): .3f}')\n",
    "                  \n",
    "EPOCHS = 20\n",
    "model = BertClassifier()\n",
    "LR = 1e-6\n",
    "              \n",
    "train(model, df_train, df_val, LR, EPOCHS)"
   ]
  },
  {
   "cell_type": "code",
   "execution_count": 115,
   "id": "09ad0533",
   "metadata": {},
   "outputs": [],
   "source": [
    "def evaluate(model, test_data):\n",
    "\n",
    "    test = Dataset(test_data)\n",
    "\n",
    "    test_dataloader = torch.utils.data.DataLoader(test, batch_size=1)\n",
    "\n",
    "    use_cuda = torch.cuda.is_available()\n",
    "    device = torch.device(\"cuda\" if use_cuda else \"cpu\")\n",
    "\n",
    "    if use_cuda:\n",
    "\n",
    "        model = model.cuda()\n",
    "\n",
    "    total_acc_test = 0\n",
    "    result = []\n",
    "    label_result = []\n",
    "    with torch.no_grad():\n",
    "\n",
    "        for test_input, test_label in test_dataloader:\n",
    "\n",
    "              test_label = test_label.to(device)  \n",
    "              mask = test_input['attention_mask'].to(device)\n",
    "              input_id = test_input['input_ids'].squeeze(1).to(device)\n",
    "\n",
    "              output = model(input_id, mask)\n",
    "              result.append(output.cpu().numpy()[0])\n",
    "#               label_result.append(output.argmax(dim=1).cpu().numpy()[0])\n",
    "              label_result.append(test_label.cpu().numpy()[0])\n",
    "\n",
    "              acc = (output.argmax(dim=1) == test_label).sum().item()\n",
    "              \n",
    "              total_acc_test += acc\n",
    "    \n",
    "    print(f'Test Accuracy: {total_acc_test / len(test_data): .3f}')\n",
    "    return [np.array(result, dtype=np.float32), np.array(label_result, dtype=np.int8)]"
   ]
  },
  {
   "cell_type": "code",
   "execution_count": 76,
   "id": "09a94c22",
   "metadata": {},
   "outputs": [
    {
     "name": "stdout",
     "output_type": "stream",
     "text": [
      "Test Accuracy:  0.819\n"
     ]
    },
    {
     "data": {
      "text/plain": [
       "[array([[6.9617942e-02, 4.2839174e+00],\n",
       "        [3.5228026e+00, 1.2508199e+00],\n",
       "        [0.0000000e+00, 4.5101700e+00],\n",
       "        [4.7159576e+00, 0.0000000e+00],\n",
       "        [4.3042765e+00, 0.0000000e+00],\n",
       "        [2.2198458e+00, 0.0000000e+00],\n",
       "        [2.4448587e-01, 6.2579679e+00],\n",
       "        [2.1455162e+00, 3.2428536e+00],\n",
       "        [1.4734931e+00, 4.8267660e+00],\n",
       "        [2.1804850e+00, 2.4526784e+00],\n",
       "        [4.5194573e+00, 6.4557076e-01],\n",
       "        [3.8158970e+00, 0.0000000e+00],\n",
       "        [2.0829098e+00, 2.3194933e+00],\n",
       "        [1.6926479e+00, 3.7144153e+00],\n",
       "        [4.8253198e+00, 0.0000000e+00],\n",
       "        [4.3874183e+00, 4.0930361e-03],\n",
       "        [1.3864566e+00, 0.0000000e+00],\n",
       "        [0.0000000e+00, 6.5284567e+00],\n",
       "        [3.0893460e-01, 5.0847607e+00],\n",
       "        [4.8077168e+00, 0.0000000e+00],\n",
       "        [1.7331672e-01, 6.0517921e+00],\n",
       "        [4.9439883e+00, 0.0000000e+00],\n",
       "        [0.0000000e+00, 5.8009605e+00],\n",
       "        [5.5478644e-01, 5.3715019e+00],\n",
       "        [0.0000000e+00, 4.6412973e+00],\n",
       "        [0.0000000e+00, 6.2701645e+00],\n",
       "        [5.5043430e+00, 0.0000000e+00],\n",
       "        [3.0834098e+00, 7.2772622e-01],\n",
       "        [4.5441504e+00, 0.0000000e+00],\n",
       "        [0.0000000e+00, 6.0264368e+00],\n",
       "        [4.5856514e+00, 0.0000000e+00],\n",
       "        [7.4984777e-01, 0.0000000e+00],\n",
       "        [2.6904507e+00, 2.0155063e+00],\n",
       "        [3.8008800e+00, 0.0000000e+00],\n",
       "        [1.3016476e-01, 6.6617060e+00],\n",
       "        [4.1524301e+00, 9.0107417e-01],\n",
       "        [3.2792215e+00, 0.0000000e+00],\n",
       "        [0.0000000e+00, 5.7146139e+00],\n",
       "        [3.4241059e+00, 0.0000000e+00],\n",
       "        [5.1926723e+00, 5.4434872e-01],\n",
       "        [1.3829739e+00, 3.8194320e+00],\n",
       "        [1.3462574e+00, 5.4656105e+00],\n",
       "        [4.3171597e+00, 0.0000000e+00],\n",
       "        [1.2692798e-02, 5.6913004e+00],\n",
       "        [0.0000000e+00, 5.4852057e+00],\n",
       "        [1.2464312e+00, 4.4225092e+00],\n",
       "        [3.0311818e+00, 2.0495212e+00],\n",
       "        [3.0507460e+00, 3.1389630e+00],\n",
       "        [1.4914418e+00, 4.5196791e+00],\n",
       "        [4.3543978e+00, 0.0000000e+00],\n",
       "        [4.8181849e+00, 0.0000000e+00],\n",
       "        [4.6013689e+00, 4.5495728e-01],\n",
       "        [7.0624626e-01, 5.3410826e+00],\n",
       "        [2.7191775e+00, 2.8850939e+00],\n",
       "        [1.7851239e+00, 3.5880935e+00],\n",
       "        [1.6386088e+00, 2.8795230e+00],\n",
       "        [4.6153855e+00, 0.0000000e+00],\n",
       "        [4.8413663e+00, 0.0000000e+00],\n",
       "        [4.1710534e+00, 0.0000000e+00],\n",
       "        [0.0000000e+00, 5.3533163e+00],\n",
       "        [2.0544038e+00, 2.5626094e+00],\n",
       "        [8.8641685e-01, 5.8408499e+00],\n",
       "        [5.1903594e-01, 5.7765331e+00],\n",
       "        [4.5865593e+00, 1.1768107e+00],\n",
       "        [3.0808506e+00, 2.2651315e+00],\n",
       "        [1.7362715e+00, 1.9859910e+00],\n",
       "        [6.0166192e-01, 5.7166929e+00],\n",
       "        [3.8914165e+00, 0.0000000e+00],\n",
       "        [7.4835777e-01, 5.5206642e+00],\n",
       "        [1.6884133e-01, 6.0633173e+00],\n",
       "        [0.0000000e+00, 5.8698568e+00],\n",
       "        [1.5234735e+00, 0.0000000e+00],\n",
       "        [5.3399217e-01, 5.7761202e+00],\n",
       "        [2.1330242e+00, 2.3735805e+00],\n",
       "        [2.9559705e+00, 0.0000000e+00],\n",
       "        [3.4729285e+00, 0.0000000e+00],\n",
       "        [0.0000000e+00, 4.7174034e+00],\n",
       "        [2.7319221e+00, 2.1426241e+00],\n",
       "        [2.2579179e+00, 1.9244719e+00],\n",
       "        [1.6561559e-01, 4.9910221e+00],\n",
       "        [4.1200233e+00, 0.0000000e+00],\n",
       "        [3.7045908e-01, 5.3492842e+00],\n",
       "        [0.0000000e+00, 5.9742203e+00],\n",
       "        [1.9688581e+00, 2.3529727e+00],\n",
       "        [5.0392518e+00, 2.3471877e-02],\n",
       "        [2.5203090e+00, 1.9704125e+00],\n",
       "        [4.7465415e+00, 0.0000000e+00],\n",
       "        [6.0331311e+00, 0.0000000e+00],\n",
       "        [4.3315420e+00, 8.5571909e-01],\n",
       "        [3.6544561e+00, 8.4494436e-01],\n",
       "        [1.9017808e-01, 5.4405842e+00],\n",
       "        [4.9238448e+00, 0.0000000e+00],\n",
       "        [0.0000000e+00, 6.5598755e+00],\n",
       "        [3.9638716e-01, 5.7783899e+00],\n",
       "        [4.7874162e-01, 5.7328329e+00],\n",
       "        [0.0000000e+00, 5.4517488e+00],\n",
       "        [3.7072778e+00, 0.0000000e+00],\n",
       "        [0.0000000e+00, 5.6026011e+00],\n",
       "        [6.3527817e-01, 5.7459860e+00],\n",
       "        [3.5996211e+00, 2.3380470e-01],\n",
       "        [6.3174769e-02, 6.3889437e+00],\n",
       "        [0.0000000e+00, 5.6542778e+00],\n",
       "        [4.1976178e-01, 0.0000000e+00],\n",
       "        [2.1003918e-01, 5.8579855e+00],\n",
       "        [0.0000000e+00, 5.9100132e+00],\n",
       "        [4.6695371e+00, 0.0000000e+00],\n",
       "        [2.8656087e+00, 2.2763762e+00],\n",
       "        [0.0000000e+00, 5.6301470e+00],\n",
       "        [9.0428197e-01, 3.4496629e+00],\n",
       "        [6.8083280e-01, 6.4556646e+00],\n",
       "        [1.2520733e-01, 5.4850960e+00],\n",
       "        [4.5489483e+00, 0.0000000e+00],\n",
       "        [3.5153141e+00, 0.0000000e+00],\n",
       "        [4.6888099e+00, 0.0000000e+00],\n",
       "        [0.0000000e+00, 4.9390860e+00],\n",
       "        [1.4375604e+00, 0.0000000e+00]], dtype=float32),\n",
       " array([1, 1, 0, 0, 0, 0, 1, 1, 1, 1, 0, 0, 0, 0, 0, 1, 0, 1, 1, 0, 1, 0,\n",
       "        1, 1, 0, 1, 0, 0, 1, 1, 0, 1, 1, 0, 1, 0, 0, 1, 0, 0, 1, 0, 0, 1,\n",
       "        0, 1, 0, 0, 1, 0, 0, 1, 1, 1, 1, 0, 0, 1, 0, 1, 0, 1, 1, 0, 0, 0,\n",
       "        1, 0, 1, 1, 1, 0, 1, 0, 0, 0, 1, 0, 0, 1, 0, 0, 1, 1, 0, 0, 0, 0,\n",
       "        0, 0, 1, 0, 1, 1, 1, 1, 0, 1, 1, 0, 1, 1, 1, 1, 1, 0, 0, 1, 1, 1,\n",
       "        1, 0, 1, 0, 1, 0], dtype=int8)]"
      ]
     },
     "execution_count": 76,
     "metadata": {},
     "output_type": "execute_result"
    }
   ],
   "source": [
    "evaluate(model, df_test)"
   ]
  },
  {
   "cell_type": "code",
   "execution_count": 116,
   "id": "62cbcecf",
   "metadata": {},
   "outputs": [
    {
     "name": "stdout",
     "output_type": "stream",
     "text": [
      "Test Accuracy:  0.944\n"
     ]
    }
   ],
   "source": [
    "vectorized_data, label_vectorized_data = evaluate(model, df)"
   ]
  },
  {
   "cell_type": "code",
   "execution_count": 117,
   "id": "69ec3263",
   "metadata": {},
   "outputs": [
    {
     "data": {
      "text/plain": [
       "array([[4.614884  , 0.        ],\n",
       "       [5.259606  , 0.21752948],\n",
       "       [4.6566334 , 0.03835768],\n",
       "       ...,\n",
       "       [4.251071  , 0.        ],\n",
       "       [1.2723016 , 5.9410295 ],\n",
       "       [4.8056674 , 0.        ]], dtype=float32)"
      ]
     },
     "execution_count": 117,
     "metadata": {},
     "output_type": "execute_result"
    }
   ],
   "source": [
    "vectorized_data"
   ]
  },
  {
   "cell_type": "code",
   "execution_count": 118,
   "id": "c87a450a",
   "metadata": {},
   "outputs": [
    {
     "data": {
      "text/plain": [
       "array([0, 0, 0, ..., 0, 1, 0], dtype=int8)"
      ]
     },
     "execution_count": 118,
     "metadata": {},
     "output_type": "execute_result"
    }
   ],
   "source": [
    "label_vectorized_data"
   ]
  },
  {
   "cell_type": "code",
   "execution_count": 119,
   "id": "e2e09bdf",
   "metadata": {},
   "outputs": [],
   "source": [
    "from sklearn.neural_network import MLPClassifier\n",
    "from sklearn.datasets import make_classification\n",
    "from sklearn.model_selection import train_test_split\n",
    "\n",
    "X_train, X_test, y_train, y_test = train_test_split(vectorized_data, label_vectorized_data,\n",
    "                                                    stratify=label_vectorized_data, random_state=1)\n",
    "clf = MLPClassifier(random_state=1, hidden_layer_sizes=(4,), max_iter=1000).fit(X_train, y_train)"
   ]
  },
  {
   "cell_type": "code",
   "execution_count": 120,
   "id": "cfaea1ba",
   "metadata": {},
   "outputs": [
    {
     "data": {
      "text/plain": [
       "array([[0.9114647 , 0.08853532],\n",
       "       [0.9114647 , 0.08853532],\n",
       "       [0.07155186, 0.92844814],\n",
       "       [0.02311158, 0.9768884 ],\n",
       "       [0.04016387, 0.9598361 ],\n",
       "       [0.0134393 , 0.9865607 ],\n",
       "       [0.9114647 , 0.08853532],\n",
       "       [0.9114647 , 0.08853532],\n",
       "       [0.9114647 , 0.08853532],\n",
       "       [0.9114647 , 0.08853532],\n",
       "       [0.01301575, 0.98698425],\n",
       "       [0.03636253, 0.9636375 ],\n",
       "       [0.83386075, 0.16613923],\n",
       "       [0.9114647 , 0.08853532],\n",
       "       [0.5526266 , 0.44737342],\n",
       "       [0.01683486, 0.98316514],\n",
       "       [0.04170495, 0.95829505],\n",
       "       [0.01155227, 0.9884477 ],\n",
       "       [0.02486008, 0.9751399 ],\n",
       "       [0.0280903 , 0.9719097 ],\n",
       "       [0.03200567, 0.96799433],\n",
       "       [0.0357269 , 0.9642731 ],\n",
       "       [0.00899762, 0.9910024 ],\n",
       "       [0.9114647 , 0.08853532],\n",
       "       [0.9114647 , 0.08853532],\n",
       "       [0.0066604 , 0.9933396 ],\n",
       "       [0.9114647 , 0.08853532],\n",
       "       [0.9114647 , 0.08853532],\n",
       "       [0.9114647 , 0.08853532],\n",
       "       [0.9114647 , 0.08853532],\n",
       "       [0.9114647 , 0.08853532],\n",
       "       [0.9114647 , 0.08853532],\n",
       "       [0.9114647 , 0.08853532],\n",
       "       [0.9114647 , 0.08853532],\n",
       "       [0.01278996, 0.98721004],\n",
       "       [0.9114647 , 0.08853532],\n",
       "       [0.9114647 , 0.08853532],\n",
       "       [0.19263226, 0.80736774],\n",
       "       [0.5428904 , 0.45710957],\n",
       "       [0.9114647 , 0.08853532],\n",
       "       [0.9114647 , 0.08853532],\n",
       "       [0.01997906, 0.98002094],\n",
       "       [0.9114647 , 0.08853532],\n",
       "       [0.9114647 , 0.08853532],\n",
       "       [0.9114647 , 0.08853532],\n",
       "       [0.01441926, 0.98558074],\n",
       "       [0.01793945, 0.98206055],\n",
       "       [0.01265854, 0.98734146],\n",
       "       [0.9114647 , 0.08853532],\n",
       "       [0.01614481, 0.9838552 ],\n",
       "       [0.9114647 , 0.08853532],\n",
       "       [0.9114647 , 0.08853532],\n",
       "       [0.9114647 , 0.08853532],\n",
       "       [0.6980816 , 0.3019184 ],\n",
       "       [0.9114647 , 0.08853532],\n",
       "       [0.02841449, 0.9715855 ],\n",
       "       [0.01790828, 0.9820917 ],\n",
       "       [0.9114647 , 0.08853532],\n",
       "       [0.9114647 , 0.08853532],\n",
       "       [0.9114647 , 0.08853532],\n",
       "       [0.02284747, 0.9771525 ],\n",
       "       [0.9114647 , 0.08853532],\n",
       "       [0.9114647 , 0.08853532],\n",
       "       [0.03490132, 0.9650987 ],\n",
       "       [0.02159065, 0.97840935],\n",
       "       [0.7475092 , 0.25249082],\n",
       "       [0.9114647 , 0.08853532],\n",
       "       [0.7247379 , 0.2752621 ],\n",
       "       [0.46088994, 0.53911006],\n",
       "       [0.01809978, 0.9819002 ],\n",
       "       [0.9114647 , 0.08853532],\n",
       "       [0.9114647 , 0.08853532],\n",
       "       [0.40820622, 0.5917938 ],\n",
       "       [0.9114647 , 0.08853532],\n",
       "       [0.01046789, 0.9895321 ],\n",
       "       [0.01901418, 0.9809858 ],\n",
       "       [0.01048446, 0.98951554],\n",
       "       [0.9114647 , 0.08853532],\n",
       "       [0.9114647 , 0.08853532],\n",
       "       [0.00943065, 0.99056935],\n",
       "       [0.9114647 , 0.08853532],\n",
       "       [0.9114647 , 0.08853532],\n",
       "       [0.02454066, 0.97545934],\n",
       "       [0.02564907, 0.9743509 ],\n",
       "       [0.9114647 , 0.08853532],\n",
       "       [0.9114647 , 0.08853532],\n",
       "       [0.9114647 , 0.08853532],\n",
       "       [0.0131911 , 0.9868089 ],\n",
       "       [0.9114647 , 0.08853532],\n",
       "       [0.02284533, 0.9771547 ],\n",
       "       [0.9114647 , 0.08853532],\n",
       "       [0.9114647 , 0.08853532],\n",
       "       [0.01444715, 0.98555285],\n",
       "       [0.01189804, 0.98810196],\n",
       "       [0.01417959, 0.9858204 ],\n",
       "       [0.9114647 , 0.08853532],\n",
       "       [0.01146609, 0.9885339 ],\n",
       "       [0.9114647 , 0.08853532],\n",
       "       [0.9114647 , 0.08853532],\n",
       "       [0.9114647 , 0.08853532],\n",
       "       [0.01118189, 0.9888181 ],\n",
       "       [0.9114647 , 0.08853532],\n",
       "       [0.01722461, 0.9827754 ],\n",
       "       [0.01102996, 0.98897004],\n",
       "       [0.9114647 , 0.08853532],\n",
       "       [0.02159429, 0.9784057 ],\n",
       "       [0.9114647 , 0.08853532],\n",
       "       [0.9114647 , 0.08853532],\n",
       "       [0.02415597, 0.975844  ],\n",
       "       [0.9114647 , 0.08853532],\n",
       "       [0.03472769, 0.9652723 ],\n",
       "       [0.9114647 , 0.08853532],\n",
       "       [0.01979023, 0.98020977],\n",
       "       [0.9114647 , 0.08853532],\n",
       "       [0.01168257, 0.98831743],\n",
       "       [0.01252049, 0.9874795 ],\n",
       "       [0.01930273, 0.9806973 ],\n",
       "       [0.01764977, 0.98235023],\n",
       "       [0.00925326, 0.99074674],\n",
       "       [0.8509048 , 0.14909515],\n",
       "       [0.9114647 , 0.08853532],\n",
       "       [0.01384211, 0.9861579 ],\n",
       "       [0.02029127, 0.97970873],\n",
       "       [0.9114647 , 0.08853532],\n",
       "       [0.01011056, 0.98988944],\n",
       "       [0.02101779, 0.9789822 ],\n",
       "       [0.9114647 , 0.08853532],\n",
       "       [0.9114647 , 0.08853532],\n",
       "       [0.01529837, 0.98470163],\n",
       "       [0.9114647 , 0.08853532],\n",
       "       [0.9114647 , 0.08853532],\n",
       "       [0.02050471, 0.9794953 ],\n",
       "       [0.01233733, 0.9876627 ],\n",
       "       [0.00955844, 0.99044156],\n",
       "       [0.01268899, 0.987311  ],\n",
       "       [0.4928177 , 0.5071823 ],\n",
       "       [0.39699966, 0.60300034],\n",
       "       [0.9114647 , 0.08853532],\n",
       "       [0.01072568, 0.9892743 ],\n",
       "       [0.01226223, 0.9877378 ],\n",
       "       [0.02653003, 0.97347   ],\n",
       "       [0.03779477, 0.96220523],\n",
       "       [0.9114647 , 0.08853532],\n",
       "       [0.023224  , 0.976776  ],\n",
       "       [0.9114647 , 0.08853532],\n",
       "       [0.9114647 , 0.08853532],\n",
       "       [0.9114647 , 0.08853532],\n",
       "       [0.02268857, 0.97731143],\n",
       "       [0.9114647 , 0.08853532],\n",
       "       [0.9114647 , 0.08853532],\n",
       "       [0.9114647 , 0.08853532],\n",
       "       [0.01097375, 0.98902625],\n",
       "       [0.9114647 , 0.08853532],\n",
       "       [0.9114647 , 0.08853532],\n",
       "       [0.9114647 , 0.08853532],\n",
       "       [0.9114647 , 0.08853532],\n",
       "       [0.02843034, 0.97156966],\n",
       "       [0.01409525, 0.98590475],\n",
       "       [0.01681489, 0.9831851 ],\n",
       "       [0.01697171, 0.9830283 ],\n",
       "       [0.9114647 , 0.08853532],\n",
       "       [0.9114647 , 0.08853532],\n",
       "       [0.9114647 , 0.08853532],\n",
       "       [0.01224929, 0.9877507 ],\n",
       "       [0.9114647 , 0.08853532],\n",
       "       [0.01394206, 0.98605794],\n",
       "       [0.02658254, 0.97341746],\n",
       "       [0.02499622, 0.9750038 ],\n",
       "       [0.901009  , 0.09899098],\n",
       "       [0.9114647 , 0.08853532],\n",
       "       [0.9114647 , 0.08853532],\n",
       "       [0.9114647 , 0.08853532],\n",
       "       [0.9114647 , 0.08853532],\n",
       "       [0.01291043, 0.9870896 ],\n",
       "       [0.9114647 , 0.08853532],\n",
       "       [0.9114647 , 0.08853532],\n",
       "       [0.9114647 , 0.08853532],\n",
       "       [0.03636152, 0.9636385 ],\n",
       "       [0.01618189, 0.9838181 ],\n",
       "       [0.9114647 , 0.08853532],\n",
       "       [0.9114647 , 0.08853532],\n",
       "       [0.9114647 , 0.08853532],\n",
       "       [0.02088326, 0.97911674],\n",
       "       [0.9114647 , 0.08853532],\n",
       "       [0.02126998, 0.97873   ],\n",
       "       [0.01651335, 0.98348665],\n",
       "       [0.01111716, 0.98888284],\n",
       "       [0.01394254, 0.98605746],\n",
       "       [0.01895094, 0.98104906],\n",
       "       [0.01514637, 0.9848536 ],\n",
       "       [0.9114647 , 0.08853532],\n",
       "       [0.0109762 , 0.9890238 ],\n",
       "       [0.9114647 , 0.08853532],\n",
       "       [0.0241304 , 0.9758696 ],\n",
       "       [0.9114647 , 0.08853532],\n",
       "       [0.01544863, 0.98455137],\n",
       "       [0.01213497, 0.98786503],\n",
       "       [0.9114647 , 0.08853532],\n",
       "       [0.01825655, 0.98174345],\n",
       "       [0.9114647 , 0.08853532],\n",
       "       [0.9114647 , 0.08853532],\n",
       "       [0.9114647 , 0.08853532],\n",
       "       [0.02374327, 0.9762567 ],\n",
       "       [0.9114647 , 0.08853532],\n",
       "       [0.01284772, 0.9871523 ],\n",
       "       [0.01706815, 0.98293185],\n",
       "       [0.45295626, 0.54704374],\n",
       "       [0.02445149, 0.9755485 ],\n",
       "       [0.0872013 , 0.9127987 ],\n",
       "       [0.9114647 , 0.08853532],\n",
       "       [0.9114647 , 0.08853532],\n",
       "       [0.9114647 , 0.08853532],\n",
       "       [0.0129469 , 0.9870531 ],\n",
       "       [0.01413393, 0.98586607],\n",
       "       [0.02231258, 0.9776874 ],\n",
       "       [0.9114647 , 0.08853532],\n",
       "       [0.9114647 , 0.08853532],\n",
       "       [0.9114647 , 0.08853532],\n",
       "       [0.01104826, 0.98895174],\n",
       "       [0.01327556, 0.98672444],\n",
       "       [0.9114647 , 0.08853532],\n",
       "       [0.50982827, 0.49017173],\n",
       "       [0.9114647 , 0.08853532],\n",
       "       [0.1648379 , 0.8351621 ],\n",
       "       [0.01958895, 0.98041105],\n",
       "       [0.61035633, 0.38964364],\n",
       "       [0.0190829 , 0.9809171 ],\n",
       "       [0.9114647 , 0.08853532],\n",
       "       [0.0294975 , 0.9705025 ],\n",
       "       [0.03481525, 0.96518475],\n",
       "       [0.02616274, 0.97383726],\n",
       "       [0.01549405, 0.98450595],\n",
       "       [0.02201927, 0.97798073],\n",
       "       [0.35774356, 0.64225644],\n",
       "       [0.9114647 , 0.08853532],\n",
       "       [0.01737303, 0.982627  ],\n",
       "       [0.04878557, 0.95121443],\n",
       "       [0.9114647 , 0.08853532],\n",
       "       [0.9114647 , 0.08853532],\n",
       "       [0.02385378, 0.9761462 ],\n",
       "       [0.9114647 , 0.08853532],\n",
       "       [0.03229523, 0.9677048 ],\n",
       "       [0.9114647 , 0.08853532],\n",
       "       [0.9114647 , 0.08853532],\n",
       "       [0.9114647 , 0.08853532],\n",
       "       [0.02199924, 0.97800076],\n",
       "       [0.5329364 , 0.4670636 ],\n",
       "       [0.9114647 , 0.08853532],\n",
       "       [0.01459867, 0.98540133],\n",
       "       [0.01341379, 0.9865862 ],\n",
       "       [0.9114647 , 0.08853532],\n",
       "       [0.9114647 , 0.08853532],\n",
       "       [0.9114647 , 0.08853532],\n",
       "       [0.02345514, 0.97654486],\n",
       "       [0.9114647 , 0.08853532],\n",
       "       [0.9114647 , 0.08853532],\n",
       "       [0.9114647 , 0.08853532],\n",
       "       [0.03229535, 0.96770465],\n",
       "       [0.02242899, 0.977571  ],\n",
       "       [0.00993335, 0.99006665],\n",
       "       [0.9114647 , 0.08853532],\n",
       "       [0.5453867 , 0.4546133 ],\n",
       "       [0.0096637 , 0.9903363 ],\n",
       "       [0.34879392, 0.6512061 ],\n",
       "       [0.01570177, 0.9842982 ],\n",
       "       [0.01862061, 0.9813794 ],\n",
       "       [0.01604384, 0.98395616],\n",
       "       [0.12236327, 0.87763673],\n",
       "       [0.01894796, 0.98105204],\n",
       "       [0.01430959, 0.9856904 ],\n",
       "       [0.9114647 , 0.08853532],\n",
       "       [0.9114647 , 0.08853532],\n",
       "       [0.9114647 , 0.08853532],\n",
       "       [0.01547313, 0.9845269 ],\n",
       "       [0.01068342, 0.9893166 ],\n",
       "       [0.02214825, 0.97785175],\n",
       "       [0.9114647 , 0.08853532],\n",
       "       [0.0177319 , 0.9822681 ],\n",
       "       [0.9114647 , 0.08853532],\n",
       "       [0.9114647 , 0.08853532],\n",
       "       [0.9114647 , 0.08853532],\n",
       "       [0.9114647 , 0.08853532],\n",
       "       [0.9114647 , 0.08853532],\n",
       "       [0.9114647 , 0.08853532],\n",
       "       [0.013888  , 0.986112  ],\n",
       "       [0.03637278, 0.9636272 ],\n",
       "       [0.9114647 , 0.08853532],\n",
       "       [0.01847678, 0.9815232 ],\n",
       "       [0.0258342 , 0.9741658 ]], dtype=float32)"
      ]
     },
     "execution_count": 120,
     "metadata": {},
     "output_type": "execute_result"
    }
   ],
   "source": [
    "clf.predict_proba(X_test)"
   ]
  },
  {
   "cell_type": "code",
   "execution_count": 121,
   "id": "1851ba84",
   "metadata": {},
   "outputs": [
    {
     "data": {
      "text/plain": [
       "array([0, 0, 1, 1, 1, 1, 0, 0, 0, 0, 1, 1, 0, 0, 0, 1, 1, 1, 1, 1, 1, 1,\n",
       "       1, 0, 0, 1, 0, 0, 0, 0, 0, 0, 0, 0, 1, 0, 0, 1, 0, 0, 0, 1, 0, 0,\n",
       "       0, 1, 1, 1, 0, 1, 0, 0, 0, 0, 0, 1, 1, 0, 0, 0, 1, 0, 0, 1, 1, 0,\n",
       "       0, 0, 1, 1, 0, 0, 1, 0, 1, 1, 1, 0, 0, 1, 0, 0, 1, 1, 0, 0, 0, 1,\n",
       "       0, 1, 0, 0, 1, 1, 1, 0, 1, 0, 0, 0, 1, 0, 1, 1, 0, 1, 0, 0, 1, 0,\n",
       "       1, 0, 1, 0, 1, 1, 1, 1, 1, 0, 0, 1, 1, 0, 1, 1, 0, 0, 1, 0, 0, 1,\n",
       "       1, 1, 1, 1, 1, 0, 1, 1, 1, 1, 0, 1, 0, 0, 0, 1, 0, 0, 0, 1, 0, 0,\n",
       "       0, 0, 1, 1, 1, 1, 0, 0, 0, 1, 0, 1, 1, 1, 0, 0, 0, 0, 0, 1, 0, 0,\n",
       "       0, 1, 1, 0, 0, 0, 1, 0, 1, 1, 1, 1, 1, 1, 0, 1, 0, 1, 0, 1, 1, 0,\n",
       "       1, 0, 0, 0, 1, 0, 1, 1, 1, 1, 1, 0, 0, 0, 1, 1, 1, 0, 0, 0, 1, 1,\n",
       "       0, 0, 0, 1, 1, 0, 1, 0, 1, 1, 1, 1, 1, 1, 0, 1, 1, 0, 0, 1, 0, 1,\n",
       "       0, 0, 0, 1, 0, 0, 1, 1, 0, 0, 0, 1, 0, 0, 0, 1, 1, 1, 0, 0, 1, 1,\n",
       "       1, 1, 1, 1, 1, 1, 0, 0, 0, 1, 1, 1, 0, 1, 0, 0, 0, 0, 0, 0, 1, 1,\n",
       "       0, 1, 1], dtype=int8)"
      ]
     },
     "execution_count": 121,
     "metadata": {},
     "output_type": "execute_result"
    }
   ],
   "source": [
    "clf.predict(X_test)"
   ]
  },
  {
   "cell_type": "code",
   "execution_count": 122,
   "id": "38244e81",
   "metadata": {},
   "outputs": [
    {
     "data": {
      "text/plain": [
       "0.9550173010380623"
      ]
     },
     "execution_count": 122,
     "metadata": {},
     "output_type": "execute_result"
    }
   ],
   "source": [
    "clf.score(X_test, y_test)"
   ]
  },
  {
   "cell_type": "code",
   "execution_count": null,
   "id": "e8fabea4",
   "metadata": {},
   "outputs": [],
   "source": []
  }
 ],
 "metadata": {
  "kernelspec": {
   "display_name": "Python [conda env:textProcessBert]",
   "language": "python",
   "name": "conda-env-textProcessBert-py"
  },
  "language_info": {
   "codemirror_mode": {
    "name": "ipython",
    "version": 3
   },
   "file_extension": ".py",
   "mimetype": "text/x-python",
   "name": "python",
   "nbconvert_exporter": "python",
   "pygments_lexer": "ipython3",
   "version": "3.9.7"
  }
 },
 "nbformat": 4,
 "nbformat_minor": 5
}
