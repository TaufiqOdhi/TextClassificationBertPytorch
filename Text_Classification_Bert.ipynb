{
 "cells": [
  {
   "cell_type": "code",
   "execution_count": null,
   "id": "14719051",
   "metadata": {},
   "outputs": [],
   "source": [
    "pip install -r requirements.txt"
   ]
  },
  {
   "cell_type": "code",
   "execution_count": 1,
   "id": "75609fe5",
   "metadata": {},
   "outputs": [],
   "source": [
    "import pandas as pd\n",
    "import petl as etl"
   ]
  },
  {
   "cell_type": "code",
   "execution_count": null,
   "id": "7efb79a5",
   "metadata": {},
   "outputs": [],
   "source": [
    "# Load file label\n",
    "\n",
    "label1 = etl.fromtext('rumor_detection_acl2017/twitter15/label.txt')\n",
    "label1 = label1.capture('lines', '(.*):(.*)$', ['label', 'src_tweet_id'])\n",
    "label1"
   ]
  },
  {
   "cell_type": "code",
   "execution_count": null,
   "id": "b97f6c92",
   "metadata": {},
   "outputs": [],
   "source": [
    "# Load file label\n",
    "\n",
    "label2 = etl.fromtext('rumor_detection_acl2017/twitter16/label.txt')\n",
    "label2 = label2.capture('lines', '(.*):(.*)$', ['label', 'src_tweet_id'])\n",
    "label2"
   ]
  },
  {
   "cell_type": "code",
   "execution_count": null,
   "id": "5ec6bfb9",
   "metadata": {},
   "outputs": [],
   "source": [
    "# load file source_tweets\n",
    "\n",
    "source_tweet1 = etl.fromtext('rumor_detection_acl2017/twitter15/source_tweets.txt')\n",
    "source_tweet1 = source_tweet1.capture('lines', '(.*)\\t(.*)$', ['src_tweet_id', 'content'])\n",
    "source_tweet1"
   ]
  },
  {
   "cell_type": "code",
   "execution_count": null,
   "id": "5710e715",
   "metadata": {},
   "outputs": [],
   "source": [
    "# load file source_tweets\n",
    "\n",
    "source_tweet2 = etl.fromtext('rumor_detection_acl2017/twitter16/source_tweets.txt')\n",
    "source_tweet2 = source_tweet2.capture('lines', '(.*)\\t(.*)$', ['src_tweet_id', 'content'])\n",
    "source_tweet2"
   ]
  },
  {
   "cell_type": "code",
   "execution_count": null,
   "id": "87f81d8e",
   "metadata": {},
   "outputs": [],
   "source": [
    "# join table berdasarkan source tweet id\n",
    "# rename header sesuai dengan codingan asal\n",
    "\n",
    "tweet_text1 = etl.join(label1, source_tweet1, key='src_tweet_id')\n",
    "tweet_text1 = etl.cut(tweet_text1, 'label', 'content')\n",
    "tweet_text1 = etl.setheader(tweet_text1, ['category', 'text'])\n",
    "tweet_text1"
   ]
  },
  {
   "cell_type": "code",
   "execution_count": null,
   "id": "7e32f8db",
   "metadata": {},
   "outputs": [],
   "source": [
    "tweet_text2 = etl.join(label2, source_tweet2, key='src_tweet_id')\n",
    "tweet_text2 = etl.cut(tweet_text2, 'label', 'content')\n",
    "tweet_text2 = etl.setheader(tweet_text2, ['category', 'text'])\n",
    "tweet_text2"
   ]
  },
  {
   "cell_type": "code",
   "execution_count": null,
   "id": "75270195",
   "metadata": {
    "scrolled": true
   },
   "outputs": [],
   "source": [
    "# untuk mengetahui labelnya apa saja\n",
    "\n",
    "tweet_text1.distinct('category')"
   ]
  },
  {
   "cell_type": "code",
   "execution_count": null,
   "id": "93ac150e",
   "metadata": {},
   "outputs": [],
   "source": [
    "tweet_text2.distinct('category')"
   ]
  },
  {
   "cell_type": "code",
   "execution_count": null,
   "id": "3deff159",
   "metadata": {},
   "outputs": [],
   "source": [
    "print(len(tweet_text1))\n",
    "print(len(tweet_text2))\n",
    "len(tweet_text1)+len(tweet_text2)"
   ]
  },
  {
   "cell_type": "code",
   "execution_count": null,
   "id": "cad12d10",
   "metadata": {},
   "outputs": [],
   "source": [
    "# menyimpan ke file csv\n",
    "\n",
    "etl.tocsv(tweet_text1, 'tweet-text-1.csv')\n",
    "etl.appendcsv(tweet_text2, 'tweet-text-1.csv')"
   ]
  },
  {
   "cell_type": "code",
   "execution_count": null,
   "id": "58f48b19",
   "metadata": {},
   "outputs": [],
   "source": [
    "tweet_text3 = etl.select(tweet_text1, \"{category} == 'true' or {category} == 'false'\")\n",
    "tweet_text3 = etl.convert(tweet_text3, 'category', 'replace', 'true', 'ya')\n",
    "tweet_text3 = etl.convert(tweet_text3, 'category', 'replace', 'false', 'tidak')\n",
    "\n",
    "tweet_text4 = etl.select(tweet_text2, \"{category} == 'true' or {category} == 'false'\")\n",
    "tweet_text4 = etl.convert(tweet_text4, 'category', 'replace', 'true', 'ya')\n",
    "tweet_text4 = etl.convert(tweet_text4, 'category', 'replace', 'false', 'tidak')\n",
    "\n",
    "etl.tocsv(tweet_text3, 'tweet-text-binary.csv')\n",
    "etl.appendcsv(tweet_text4, 'tweet-text-binary.csv')"
   ]
  },
  {
   "cell_type": "code",
   "execution_count": 3,
   "id": "1212b546",
   "metadata": {},
   "outputs": [
    {
     "data": {
      "text/html": [
       "<div>\n",
       "<style scoped>\n",
       "    .dataframe tbody tr th:only-of-type {\n",
       "        vertical-align: middle;\n",
       "    }\n",
       "\n",
       "    .dataframe tbody tr th {\n",
       "        vertical-align: top;\n",
       "    }\n",
       "\n",
       "    .dataframe thead th {\n",
       "        text-align: right;\n",
       "    }\n",
       "</style>\n",
       "<table border=\"1\" class=\"dataframe\">\n",
       "  <thead>\n",
       "    <tr style=\"text-align: right;\">\n",
       "      <th></th>\n",
       "      <th>category</th>\n",
       "      <th>text</th>\n",
       "    </tr>\n",
       "  </thead>\n",
       "  <tbody>\n",
       "    <tr>\n",
       "      <th>0</th>\n",
       "      <td>false</td>\n",
       "      <td>deep-fried left wings demo-crab cakes barack-a...</td>\n",
       "    </tr>\n",
       "    <tr>\n",
       "      <th>1</th>\n",
       "      <td>false</td>\n",
       "      <td>42 million dead in bloodiest black friday week...</td>\n",
       "    </tr>\n",
       "    <tr>\n",
       "      <th>2</th>\n",
       "      <td>false</td>\n",
       "      <td>42 million dead in bloodiest black friday week...</td>\n",
       "    </tr>\n",
       "    <tr>\n",
       "      <th>3</th>\n",
       "      <td>true</td>\n",
       "      <td>#prayforchristopher 5k run .. well we are walk...</td>\n",
       "    </tr>\n",
       "    <tr>\n",
       "      <th>4</th>\n",
       "      <td>false</td>\n",
       "      <td>a photo of black nurses saving the life of a k...</td>\n",
       "    </tr>\n",
       "  </tbody>\n",
       "</table>\n",
       "</div>"
      ],
      "text/plain": [
       "  category                                               text\n",
       "0    false  deep-fried left wings demo-crab cakes barack-a...\n",
       "1    false  42 million dead in bloodiest black friday week...\n",
       "2    false  42 million dead in bloodiest black friday week...\n",
       "3     true  #prayforchristopher 5k run .. well we are walk...\n",
       "4    false  a photo of black nurses saving the life of a k..."
      ]
     },
     "execution_count": 3,
     "metadata": {},
     "output_type": "execute_result"
    }
   ],
   "source": [
    "# datapath = 'bbc-text.csv'\n",
    "datapath = 'tweet-text-1.csv'\n",
    "df = pd.read_csv(datapath)\n",
    "df.head()"
   ]
  },
  {
   "cell_type": "code",
   "execution_count": 4,
   "id": "20e2c678",
   "metadata": {},
   "outputs": [
    {
     "data": {
      "text/plain": [
       "<AxesSubplot:xlabel='category'>"
      ]
     },
     "execution_count": 4,
     "metadata": {},
     "output_type": "execute_result"
    },
    {
     "data": {
      "image/png": "[encoded data removed]",
      "text/plain": [
       "<Figure size 432x288 with 1 Axes>"
      ]
     },
     "metadata": {
      "needs_background": "light"
     },
     "output_type": "display_data"
    }
   ],
   "source": [
    "df.groupby(['category']).size().plot.bar()"
   ]
  },
  {
   "cell_type": "code",
   "execution_count": 5,
   "id": "73ed50db",
   "metadata": {},
   "outputs": [],
   "source": [
    "import torch\n",
    "import numpy as np\n",
    "from transformers import BertTokenizer\n",
    "\n",
    "tokenizer = BertTokenizer.from_pretrained('bert-base-cased')\n",
    "# labels = {'business':0,\n",
    "#           'entertainment':1,\n",
    "#           'sport':2,\n",
    "#           'tech':3,\n",
    "#           'politics':4\n",
    "#           }\n",
    "labels = {'false':0,\n",
    "          'non-rumor':1,\n",
    "          'true':2,\n",
    "          'unverified':3,\n",
    "          }\n",
    "# labels = {'tidak':0,\n",
    "#           'ya':1,\n",
    "#           }\n",
    "\n",
    "class Dataset(torch.utils.data.Dataset):\n",
    "\n",
    "    def __init__(self, df):\n",
    "\n",
    "        self.labels = [labels[label] for label in df['category']]\n",
    "        self.texts = [tokenizer(text, \n",
    "                               padding='max_length', max_length = 512, truncation=True,\n",
    "                                return_tensors=\"pt\") for text in df['text']]\n",
    "\n",
    "    def classes(self):\n",
    "        return self.labels\n",
    "\n",
    "    def __len__(self):\n",
    "        return len(self.labels)\n",
    "\n",
    "    def get_batch_labels(self, idx):\n",
    "        # Fetch a batch of labels\n",
    "        return np.array(self.labels[idx])\n",
    "\n",
    "    def get_batch_texts(self, idx):\n",
    "        # Fetch a batch of inputs\n",
    "        return self.texts[idx]\n",
    "\n",
    "    def __getitem__(self, idx):\n",
    "\n",
    "        batch_texts = self.get_batch_texts(idx)\n",
    "        batch_y = self.get_batch_labels(idx)\n",
    "\n",
    "        return batch_texts, batch_y"
   ]
  },
  {
   "cell_type": "code",
   "execution_count": 6,
   "id": "cb0e6d5b",
   "metadata": {},
   "outputs": [
    {
     "name": "stdout",
     "output_type": "stream",
     "text": [
      "1846 231 231\n"
     ]
    }
   ],
   "source": [
    "np.random.seed(112)\n",
    "df_train, df_val, df_test = np.split(df.sample(frac=1, random_state=42), \n",
    "                                     [int(.8*len(df)), int(.9*len(df))])\n",
    "\n",
    "print(len(df_train),len(df_val), len(df_test))"
   ]
  },
  {
   "cell_type": "code",
   "execution_count": 7,
   "id": "809c5d74",
   "metadata": {},
   "outputs": [],
   "source": [
    "from torch import nn\n",
    "from transformers import BertModel\n",
    "\n",
    "class BertClassifier(nn.Module):\n",
    "\n",
    "    def __init__(self, dropout=0.5):\n",
    "\n",
    "        super(BertClassifier, self).__init__()\n",
    "\n",
    "        self.bert = BertModel.from_pretrained('bert-base-cased')\n",
    "        self.dropout = nn.Dropout(dropout)\n",
    "        self.linear = nn.Linear(768, 4)\n",
    "#         self.linear = nn.Linear(768, 2)\n",
    "        self.relu = nn.ReLU()\n",
    "\n",
    "    def forward(self, input_id, mask):\n",
    "\n",
    "        _, pooled_output = self.bert(input_ids= input_id, attention_mask=mask,return_dict=False)\n",
    "        dropout_output = self.dropout(pooled_output)\n",
    "        linear_output = self.linear(dropout_output)\n",
    "        final_layer = self.relu(linear_output)\n",
    "\n",
    "        return final_layer"
   ]
  },
  {
   "cell_type": "code",
   "execution_count": 8,
   "id": "a6902b64",
   "metadata": {},
   "outputs": [
    {
     "name": "stderr",
     "output_type": "stream",
     "text": [
      "Some weights of the model checkpoint at bert-base-cased were not used when initializing BertModel: ['cls.seq_relationship.weight', 'cls.predictions.transform.dense.weight', 'cls.predictions.decoder.weight', 'cls.predictions.transform.dense.bias', 'cls.seq_relationship.bias', 'cls.predictions.transform.LayerNorm.weight', 'cls.predictions.bias', 'cls.predictions.transform.LayerNorm.bias']\n",
      "- This IS expected if you are initializing BertModel from the checkpoint of a model trained on another task or with another architecture (e.g. initializing a BertForSequenceClassification model from a BertForPreTraining model).\n",
      "- This IS NOT expected if you are initializing BertModel from the checkpoint of a model that you expect to be exactly identical (initializing a BertForSequenceClassification model from a BertForSequenceClassification model).\n",
      "100%|███████████████████████████████████████████████████████████████████████████████████████████████████████████████████| 923/923 [01:21<00:00, 11.36it/s]\n"
     ]
    },
    {
     "name": "stdout",
     "output_type": "stream",
     "text": [
      "Epochs: 1 | Train Loss:  0.701                 | Train Accuracy:  0.262                 | Val Loss:  0.706                 | Val Accuracy:  0.255\n"
     ]
    },
    {
     "name": "stderr",
     "output_type": "stream",
     "text": [
      "100%|███████████████████████████████████████████████████████████████████████████████████████████████████████████████████| 923/923 [01:21<00:00, 11.28it/s]\n"
     ]
    },
    {
     "name": "stdout",
     "output_type": "stream",
     "text": [
      "Epochs: 2 | Train Loss:  0.684                 | Train Accuracy:  0.308                 | Val Loss:  0.684                 | Val Accuracy:  0.325\n"
     ]
    },
    {
     "name": "stderr",
     "output_type": "stream",
     "text": [
      "100%|███████████████████████████████████████████████████████████████████████████████████████████████████████████████████| 923/923 [01:21<00:00, 11.28it/s]\n"
     ]
    },
    {
     "name": "stdout",
     "output_type": "stream",
     "text": [
      "Epochs: 3 | Train Loss:  0.659                 | Train Accuracy:  0.368                 | Val Loss:  0.659                 | Val Accuracy:  0.390\n"
     ]
    },
    {
     "name": "stderr",
     "output_type": "stream",
     "text": [
      "100%|███████████████████████████████████████████████████████████████████████████████████████████████████████████████████| 923/923 [01:21<00:00, 11.28it/s]\n"
     ]
    },
    {
     "name": "stdout",
     "output_type": "stream",
     "text": [
      "Epochs: 4 | Train Loss:  0.619                 | Train Accuracy:  0.449                 | Val Loss:  0.633                 | Val Accuracy:  0.424\n"
     ]
    },
    {
     "name": "stderr",
     "output_type": "stream",
     "text": [
      "100%|███████████████████████████████████████████████████████████████████████████████████████████████████████████████████| 923/923 [01:21<00:00, 11.26it/s]\n"
     ]
    },
    {
     "name": "stdout",
     "output_type": "stream",
     "text": [
      "Epochs: 5 | Train Loss:  0.556                 | Train Accuracy:  0.549                 | Val Loss:  0.581                 | Val Accuracy:  0.515\n"
     ]
    },
    {
     "name": "stderr",
     "output_type": "stream",
     "text": [
      "100%|███████████████████████████████████████████████████████████████████████████████████████████████████████████████████| 923/923 [01:22<00:00, 11.15it/s]\n"
     ]
    },
    {
     "name": "stdout",
     "output_type": "stream",
     "text": [
      "Epochs: 6 | Train Loss:  0.471                 | Train Accuracy:  0.653                 | Val Loss:  0.553                 | Val Accuracy:  0.511\n"
     ]
    },
    {
     "name": "stderr",
     "output_type": "stream",
     "text": [
      "100%|███████████████████████████████████████████████████████████████████████████████████████████████████████████████████| 923/923 [01:22<00:00, 11.17it/s]\n"
     ]
    },
    {
     "name": "stdout",
     "output_type": "stream",
     "text": [
      "Epochs: 7 | Train Loss:  0.386                 | Train Accuracy:  0.753                 | Val Loss:  0.520                 | Val Accuracy:  0.554\n"
     ]
    },
    {
     "name": "stderr",
     "output_type": "stream",
     "text": [
      "100%|███████████████████████████████████████████████████████████████████████████████████████████████████████████████████| 923/923 [01:22<00:00, 11.17it/s]\n"
     ]
    },
    {
     "name": "stdout",
     "output_type": "stream",
     "text": [
      "Epochs: 8 | Train Loss:  0.323                 | Train Accuracy:  0.813                 | Val Loss:  0.497                 | Val Accuracy:  0.606\n"
     ]
    },
    {
     "name": "stderr",
     "output_type": "stream",
     "text": [
      "100%|███████████████████████████████████████████████████████████████████████████████████████████████████████████████████| 923/923 [01:24<00:00, 10.91it/s]\n"
     ]
    },
    {
     "name": "stdout",
     "output_type": "stream",
     "text": [
      "Epochs: 9 | Train Loss:  0.251                 | Train Accuracy:  0.879                 | Val Loss:  0.446                 | Val Accuracy:  0.649\n"
     ]
    },
    {
     "name": "stderr",
     "output_type": "stream",
     "text": [
      "100%|███████████████████████████████████████████████████████████████████████████████████████████████████████████████████| 923/923 [01:23<00:00, 11.10it/s]\n"
     ]
    },
    {
     "name": "stdout",
     "output_type": "stream",
     "text": [
      "Epochs: 10 | Train Loss:  0.196                 | Train Accuracy:  0.927                 | Val Loss:  0.428                 | Val Accuracy:  0.680\n"
     ]
    },
    {
     "name": "stderr",
     "output_type": "stream",
     "text": [
      "100%|███████████████████████████████████████████████████████████████████████████████████████████████████████████████████| 923/923 [01:22<00:00, 11.24it/s]\n"
     ]
    },
    {
     "name": "stdout",
     "output_type": "stream",
     "text": [
      "Epochs: 11 | Train Loss:  0.142                 | Train Accuracy:  0.958                 | Val Loss:  0.416                 | Val Accuracy:  0.697\n"
     ]
    },
    {
     "name": "stderr",
     "output_type": "stream",
     "text": [
      "100%|███████████████████████████████████████████████████████████████████████████████████████████████████████████████████| 923/923 [01:22<00:00, 11.21it/s]\n"
     ]
    },
    {
     "name": "stdout",
     "output_type": "stream",
     "text": [
      "Epochs: 12 | Train Loss:  0.104                 | Train Accuracy:  0.975                 | Val Loss:  0.405                 | Val Accuracy:  0.701\n"
     ]
    },
    {
     "name": "stderr",
     "output_type": "stream",
     "text": [
      "100%|███████████████████████████████████████████████████████████████████████████████████████████████████████████████████| 923/923 [01:22<00:00, 11.22it/s]\n"
     ]
    },
    {
     "name": "stdout",
     "output_type": "stream",
     "text": [
      "Epochs: 13 | Train Loss:  0.074                 | Train Accuracy:  0.985                 | Val Loss:  0.395                 | Val Accuracy:  0.719\n"
     ]
    },
    {
     "name": "stderr",
     "output_type": "stream",
     "text": [
      "100%|███████████████████████████████████████████████████████████████████████████████████████████████████████████████████| 923/923 [01:22<00:00, 11.25it/s]\n"
     ]
    },
    {
     "name": "stdout",
     "output_type": "stream",
     "text": [
      "Epochs: 14 | Train Loss:  0.053                 | Train Accuracy:  0.989                 | Val Loss:  0.417                 | Val Accuracy:  0.706\n"
     ]
    },
    {
     "name": "stderr",
     "output_type": "stream",
     "text": [
      "100%|███████████████████████████████████████████████████████████████████████████████████████████████████████████████████| 923/923 [01:22<00:00, 11.24it/s]\n"
     ]
    },
    {
     "name": "stdout",
     "output_type": "stream",
     "text": [
      "Epochs: 15 | Train Loss:  0.039                 | Train Accuracy:  0.990                 | Val Loss:  0.415                 | Val Accuracy:  0.714\n"
     ]
    },
    {
     "name": "stderr",
     "output_type": "stream",
     "text": [
      "100%|███████████████████████████████████████████████████████████████████████████████████████████████████████████████████| 923/923 [01:21<00:00, 11.31it/s]\n"
     ]
    },
    {
     "name": "stdout",
     "output_type": "stream",
     "text": [
      "Epochs: 16 | Train Loss:  0.029                 | Train Accuracy:  0.993                 | Val Loss:  0.413                 | Val Accuracy:  0.719\n"
     ]
    },
    {
     "name": "stderr",
     "output_type": "stream",
     "text": [
      "100%|███████████████████████████████████████████████████████████████████████████████████████████████████████████████████| 923/923 [01:21<00:00, 11.27it/s]\n"
     ]
    },
    {
     "name": "stdout",
     "output_type": "stream",
     "text": [
      "Epochs: 17 | Train Loss:  0.020                 | Train Accuracy:  0.996                 | Val Loss:  0.424                 | Val Accuracy:  0.723\n"
     ]
    },
    {
     "name": "stderr",
     "output_type": "stream",
     "text": [
      "100%|███████████████████████████████████████████████████████████████████████████████████████████████████████████████████| 923/923 [01:21<00:00, 11.32it/s]\n"
     ]
    },
    {
     "name": "stdout",
     "output_type": "stream",
     "text": [
      "Epochs: 18 | Train Loss:  0.016                 | Train Accuracy:  0.996                 | Val Loss:  0.420                 | Val Accuracy:  0.723\n"
     ]
    },
    {
     "name": "stderr",
     "output_type": "stream",
     "text": [
      "100%|███████████████████████████████████████████████████████████████████████████████████████████████████████████████████| 923/923 [01:22<00:00, 11.25it/s]\n"
     ]
    },
    {
     "name": "stdout",
     "output_type": "stream",
     "text": [
      "Epochs: 19 | Train Loss:  0.014                 | Train Accuracy:  0.996                 | Val Loss:  0.441                 | Val Accuracy:  0.736\n"
     ]
    },
    {
     "name": "stderr",
     "output_type": "stream",
     "text": [
      "100%|███████████████████████████████████████████████████████████████████████████████████████████████████████████████████| 923/923 [01:21<00:00, 11.28it/s]\n"
     ]
    },
    {
     "name": "stdout",
     "output_type": "stream",
     "text": [
      "Epochs: 20 | Train Loss:  0.012                 | Train Accuracy:  0.997                 | Val Loss:  0.431                 | Val Accuracy:  0.740\n"
     ]
    }
   ],
   "source": [
    "from torch.optim import Adam\n",
    "from tqdm import tqdm\n",
    "\n",
    "def train(model, train_data, val_data, learning_rate, epochs):\n",
    "\n",
    "    train, val = Dataset(train_data), Dataset(val_data)\n",
    "\n",
    "    train_dataloader = torch.utils.data.DataLoader(train, batch_size=2, shuffle=True)\n",
    "    val_dataloader = torch.utils.data.DataLoader(val, batch_size=2)\n",
    "\n",
    "    use_cuda = torch.cuda.is_available()\n",
    "    device = torch.device(\"cuda\" if use_cuda else \"cpu\")\n",
    "\n",
    "    criterion = nn.CrossEntropyLoss()\n",
    "    optimizer = Adam(model.parameters(), lr= learning_rate)\n",
    "\n",
    "    if use_cuda:\n",
    "\n",
    "            model = model.cuda()\n",
    "            criterion = criterion.cuda()\n",
    "\n",
    "    for epoch_num in range(epochs):\n",
    "\n",
    "            total_acc_train = 0\n",
    "            total_loss_train = 0\n",
    "\n",
    "            for train_input, train_label in tqdm(train_dataloader):\n",
    "\n",
    "                train_label = train_label.to(device)\n",
    "                mask = train_input['attention_mask'].to(device)\n",
    "                input_id = train_input['input_ids'].squeeze(1).to(device)\n",
    "\n",
    "                output = model(input_id, mask)\n",
    "                \n",
    "                batch_loss = criterion(output, train_label)\n",
    "                total_loss_train += batch_loss.item()\n",
    "                \n",
    "                acc = (output.argmax(dim=1) == train_label).sum().item()\n",
    "                total_acc_train += acc\n",
    "\n",
    "                model.zero_grad()\n",
    "                batch_loss.backward()\n",
    "                optimizer.step()\n",
    "            \n",
    "            total_acc_val = 0\n",
    "            total_loss_val = 0\n",
    "\n",
    "            with torch.no_grad():\n",
    "\n",
    "                for val_input, val_label in val_dataloader:\n",
    "\n",
    "                    val_label = val_label.to(device)\n",
    "                    mask = val_input['attention_mask'].to(device)\n",
    "                    input_id = val_input['input_ids'].squeeze(1).to(device)\n",
    "\n",
    "                    output = model(input_id, mask)\n",
    "\n",
    "                    batch_loss = criterion(output, val_label)\n",
    "                    total_loss_val += batch_loss.item()\n",
    "                    \n",
    "                    acc = (output.argmax(dim=1) == val_label).sum().item()\n",
    "                    total_acc_val += acc\n",
    "            \n",
    "            print(\n",
    "                f'Epochs: {epoch_num + 1} | Train Loss: {total_loss_train / len(train_data): .3f} \\\n",
    "                | Train Accuracy: {total_acc_train / len(train_data): .3f} \\\n",
    "                | Val Loss: {total_loss_val / len(val_data): .3f} \\\n",
    "                | Val Accuracy: {total_acc_val / len(val_data): .3f}')\n",
    "                  \n",
    "EPOCHS = 20\n",
    "model = BertClassifier()\n",
    "LR = 1e-6\n",
    "              \n",
    "train(model, df_train, df_val, LR, EPOCHS)"
   ]
  },
  {
   "cell_type": "code",
   "execution_count": 9,
   "id": "09ad0533",
   "metadata": {},
   "outputs": [],
   "source": [
    "def evaluate(model, test_data):\n",
    "\n",
    "    test = Dataset(test_data)\n",
    "\n",
    "    test_dataloader = torch.utils.data.DataLoader(test, batch_size=1)\n",
    "\n",
    "    use_cuda = torch.cuda.is_available()\n",
    "    device = torch.device(\"cuda\" if use_cuda else \"cpu\")\n",
    "\n",
    "    if use_cuda:\n",
    "\n",
    "        model = model.cuda()\n",
    "\n",
    "    total_acc_test = 0\n",
    "    result = []\n",
    "    label_result = []\n",
    "    with torch.no_grad():\n",
    "\n",
    "        for test_input, test_label in test_dataloader:\n",
    "\n",
    "              test_label = test_label.to(device)  \n",
    "              mask = test_input['attention_mask'].to(device)\n",
    "              input_id = test_input['input_ids'].squeeze(1).to(device)\n",
    "\n",
    "              output = model(input_id, mask)\n",
    "              result.append(output.cpu().numpy()[0])\n",
    "#               label_result.append(output.argmax(dim=1).cpu().numpy()[0])\n",
    "              label_result.append(test_label.cpu().numpy()[0])\n",
    "\n",
    "              acc = (output.argmax(dim=1) == test_label).sum().item()\n",
    "              \n",
    "              total_acc_test += acc\n",
    "    \n",
    "    print(f'Test Accuracy: {total_acc_test / len(test_data): .3f}')\n",
    "    return [np.array(result, dtype=np.float32), np.array(label_result, dtype=np.int8)]"
   ]
  },
  {
   "cell_type": "code",
   "execution_count": 10,
   "id": "09a94c22",
   "metadata": {},
   "outputs": [
    {
     "name": "stdout",
     "output_type": "stream",
     "text": [
      "Test Accuracy:  0.779\n"
     ]
    },
    {
     "data": {
      "text/plain": [
       "[array([[3.70641088e+00, 1.75851107e+00, 4.77828085e-01, 1.60516167e+00],\n",
       "        [2.25525618e-01, 4.63642645e+00, 0.00000000e+00, 1.21908009e+00],\n",
       "        [3.72152996e+00, 3.42932200e+00, 3.38788889e-03, 1.33368149e-01],\n",
       "        [1.74235538e-01, 0.00000000e+00, 6.01079702e+00, 0.00000000e+00],\n",
       "        [0.00000000e+00, 6.15455008e+00, 0.00000000e+00, 0.00000000e+00],\n",
       "        [0.00000000e+00, 0.00000000e+00, 0.00000000e+00, 5.65915203e+00],\n",
       "        [0.00000000e+00, 3.79563510e-01, 6.86919019e-02, 6.09116936e+00],\n",
       "        [8.90002131e-01, 0.00000000e+00, 4.84402657e+00, 3.16611004e+00],\n",
       "        [5.91105938e+00, 3.79413962e-01, 0.00000000e+00, 0.00000000e+00],\n",
       "        [6.44234657e+00, 0.00000000e+00, 0.00000000e+00, 0.00000000e+00],\n",
       "        [1.61482483e-01, 0.00000000e+00, 0.00000000e+00, 5.36335039e+00],\n",
       "        [0.00000000e+00, 0.00000000e+00, 0.00000000e+00, 4.87050295e+00],\n",
       "        [0.00000000e+00, 0.00000000e+00, 2.72233486e+00, 4.10875845e+00],\n",
       "        [3.50318241e+00, 1.80393994e+00, 0.00000000e+00, 9.97981668e-01],\n",
       "        [5.10265732e+00, 1.56104839e+00, 3.83004665e-01, 0.00000000e+00],\n",
       "        [0.00000000e+00, 0.00000000e+00, 7.13400793e+00, 1.11532219e-01],\n",
       "        [0.00000000e+00, 0.00000000e+00, 9.05861519e-03, 5.73572254e+00],\n",
       "        [2.33394909e+00, 1.61483860e+00, 2.02233624e+00, 9.51472580e-01],\n",
       "        [4.10716116e-01, 0.00000000e+00, 5.55202341e+00, 2.29675204e-01],\n",
       "        [1.85355544e-03, 0.00000000e+00, 6.62117529e+00, 1.66971052e+00],\n",
       "        [0.00000000e+00, 5.35973406e+00, 0.00000000e+00, 0.00000000e+00],\n",
       "        [1.22264051e+00, 0.00000000e+00, 4.82423878e+00, 0.00000000e+00],\n",
       "        [0.00000000e+00, 0.00000000e+00, 5.14228868e+00, 1.65431416e+00],\n",
       "        [2.10623503e+00, 0.00000000e+00, 1.01424479e+00, 5.56869888e+00],\n",
       "        [6.34349918e+00, 0.00000000e+00, 0.00000000e+00, 0.00000000e+00],\n",
       "        [7.10028887e-01, 5.61556816e+00, 0.00000000e+00, 0.00000000e+00],\n",
       "        [3.04455805e+00, 0.00000000e+00, 1.93174851e+00, 2.90235806e+00],\n",
       "        [3.49054384e+00, 4.44623089e+00, 0.00000000e+00, 0.00000000e+00],\n",
       "        [1.26422513e+00, 0.00000000e+00, 2.18399978e+00, 4.71084738e+00],\n",
       "        [0.00000000e+00, 5.04208279e+00, 0.00000000e+00, 0.00000000e+00],\n",
       "        [0.00000000e+00, 0.00000000e+00, 0.00000000e+00, 5.39591646e+00],\n",
       "        [4.25356436e+00, 2.53393817e+00, 0.00000000e+00, 0.00000000e+00],\n",
       "        [0.00000000e+00, 2.80726612e-01, 0.00000000e+00, 6.02959633e+00],\n",
       "        [0.00000000e+00, 6.10402060e+00, 0.00000000e+00, 0.00000000e+00],\n",
       "        [1.31372583e+00, 0.00000000e+00, 1.82609177e+00, 5.46090889e+00],\n",
       "        [1.00263345e+00, 3.08995754e-01, 0.00000000e+00, 3.66217041e+00],\n",
       "        [3.87041926e-01, 0.00000000e+00, 5.82119799e+00, 0.00000000e+00],\n",
       "        [1.25197744e+00, 6.27365446e+00, 0.00000000e+00, 0.00000000e+00],\n",
       "        [6.57486725e+00, 3.29936743e-01, 0.00000000e+00, 0.00000000e+00],\n",
       "        [4.69212389e+00, 1.21183908e+00, 0.00000000e+00, 0.00000000e+00],\n",
       "        [0.00000000e+00, 2.70703387e+00, 0.00000000e+00, 4.33948565e+00],\n",
       "        [0.00000000e+00, 5.66637468e+00, 0.00000000e+00, 0.00000000e+00],\n",
       "        [1.86374474e+00, 3.51755452e+00, 0.00000000e+00, 0.00000000e+00],\n",
       "        [3.49318361e+00, 3.33265662e-01, 1.65984178e+00, 2.98822045e+00],\n",
       "        [0.00000000e+00, 9.51799974e-02, 4.71567690e-01, 6.16883898e+00],\n",
       "        [6.68209791e-03, 5.69877481e+00, 0.00000000e+00, 0.00000000e+00],\n",
       "        [1.58370507e+00, 4.33488035e+00, 0.00000000e+00, 0.00000000e+00],\n",
       "        [3.93414593e+00, 0.00000000e+00, 2.93919039e+00, 3.70405436e-01],\n",
       "        [7.05349636e+00, 0.00000000e+00, 5.64293742e-01, 0.00000000e+00],\n",
       "        [0.00000000e+00, 0.00000000e+00, 5.43567038e+00, 2.06405804e-01],\n",
       "        [2.02457809e+00, 6.70548007e-02, 4.61606836e+00, 5.72844923e-01],\n",
       "        [2.91133499e+00, 3.32246423e+00, 0.00000000e+00, 0.00000000e+00],\n",
       "        [1.56742036e-01, 0.00000000e+00, 1.59998730e-01, 4.89860582e+00],\n",
       "        [0.00000000e+00, 4.42389631e+00, 0.00000000e+00, 1.18231058e+00],\n",
       "        [0.00000000e+00, 0.00000000e+00, 0.00000000e+00, 5.95511103e+00],\n",
       "        [9.40737128e-01, 5.05779886e+00, 0.00000000e+00, 0.00000000e+00],\n",
       "        [5.47982597e+00, 4.62797731e-01, 0.00000000e+00, 3.93194616e-01],\n",
       "        [1.30639207e+00, 1.78532209e-02, 7.20911264e-01, 5.39787245e+00],\n",
       "        [4.14413118e+00, 2.12523341e+00, 0.00000000e+00, 7.28962183e-01],\n",
       "        [6.36238384e+00, 0.00000000e+00, 7.79353976e-01, 2.31721923e-01],\n",
       "        [1.86648738e+00, 3.40117192e+00, 1.21522403e+00, 0.00000000e+00],\n",
       "        [5.21312380e+00, 0.00000000e+00, 0.00000000e+00, 0.00000000e+00],\n",
       "        [2.22730112e+00, 0.00000000e+00, 3.63717747e+00, 2.65170550e+00],\n",
       "        [0.00000000e+00, 0.00000000e+00, 0.00000000e+00, 5.52094889e+00],\n",
       "        [7.22127497e-01, 0.00000000e+00, 6.78292084e+00, 3.50209065e-02],\n",
       "        [5.45654249e+00, 0.00000000e+00, 1.49474919e+00, 3.97411227e-01],\n",
       "        [2.56332350e+00, 1.55434525e+00, 0.00000000e+00, 1.90552771e+00],\n",
       "        [0.00000000e+00, 5.64428329e+00, 0.00000000e+00, 0.00000000e+00],\n",
       "        [4.31847477e+00, 2.25317597e+00, 0.00000000e+00, 0.00000000e+00],\n",
       "        [6.07121944e+00, 0.00000000e+00, 2.12848470e-01, 0.00000000e+00],\n",
       "        [6.92226887e+00, 0.00000000e+00, 3.15487266e-01, 0.00000000e+00],\n",
       "        [0.00000000e+00, 0.00000000e+00, 0.00000000e+00, 6.19874430e+00],\n",
       "        [1.25451291e+00, 4.10024929e+00, 0.00000000e+00, 9.30248126e-02],\n",
       "        [9.32373047e-01, 0.00000000e+00, 5.23768759e+00, 0.00000000e+00],\n",
       "        [5.16407776e+00, 0.00000000e+00, 7.66908646e-01, 2.89410377e+00],\n",
       "        [5.43105078e+00, 3.82478595e-01, 0.00000000e+00, 1.21083009e+00],\n",
       "        [1.42491087e-01, 0.00000000e+00, 6.26971292e+00, 8.04228485e-01],\n",
       "        [1.16608560e+00, 0.00000000e+00, 5.56903696e+00, 1.02199423e+00],\n",
       "        [5.49508524e+00, 8.59580219e-01, 0.00000000e+00, 0.00000000e+00],\n",
       "        [4.33959723e-01, 0.00000000e+00, 1.75698721e+00, 4.74478960e+00],\n",
       "        [5.28126955e+00, 9.83477771e-01, 0.00000000e+00, 0.00000000e+00],\n",
       "        [0.00000000e+00, 0.00000000e+00, 0.00000000e+00, 5.83198309e+00],\n",
       "        [5.44820309e-01, 0.00000000e+00, 0.00000000e+00, 6.44039583e+00],\n",
       "        [0.00000000e+00, 0.00000000e+00, 6.05138254e+00, 1.00392854e+00],\n",
       "        [3.45696354e+00, 4.17524874e-01, 7.42841780e-01, 2.08503342e+00],\n",
       "        [2.33715534e+00, 2.51132298e+00, 1.70896098e-01, 0.00000000e+00],\n",
       "        [7.13270485e-01, 0.00000000e+00, 0.00000000e+00, 5.58998156e+00],\n",
       "        [5.33853436e+00, 1.53082418e+00, 0.00000000e+00, 0.00000000e+00],\n",
       "        [0.00000000e+00, 4.68991232e+00, 0.00000000e+00, 9.35597897e-01],\n",
       "        [6.03776169e+00, 1.10787129e+00, 0.00000000e+00, 0.00000000e+00],\n",
       "        [4.46635056e+00, 2.71579933e+00, 5.26143834e-02, 0.00000000e+00],\n",
       "        [2.08236122e+00, 4.74898481e+00, 0.00000000e+00, 0.00000000e+00],\n",
       "        [1.24300742e+00, 0.00000000e+00, 5.00086021e+00, 1.37445486e+00],\n",
       "        [0.00000000e+00, 3.39526081e+00, 0.00000000e+00, 3.63404346e+00],\n",
       "        [0.00000000e+00, 0.00000000e+00, 0.00000000e+00, 6.52428436e+00],\n",
       "        [0.00000000e+00, 5.28206289e-01, 5.31548440e-01, 5.72724581e+00],\n",
       "        [4.61279678e+00, 2.40509462e+00, 0.00000000e+00, 4.36860681e-01],\n",
       "        [5.34401131e+00, 0.00000000e+00, 3.98678899e-01, 4.07114649e+00],\n",
       "        [2.36555147e+00, 5.60081005e-01, 3.29519010e+00, 2.49286985e+00],\n",
       "        [4.60961491e-01, 0.00000000e+00, 7.57886171e-01, 5.55393934e+00],\n",
       "        [2.70478547e-01, 0.00000000e+00, 2.27856413e-01, 5.58853626e+00],\n",
       "        [1.48898602e-01, 0.00000000e+00, 0.00000000e+00, 6.00954294e+00],\n",
       "        [1.77476645e+00, 2.10416818e+00, 0.00000000e+00, 4.05449200e+00],\n",
       "        [0.00000000e+00, 0.00000000e+00, 5.65024614e+00, 1.28114450e+00],\n",
       "        [2.98808241e+00, 2.65961266e+00, 1.15327430e+00, 0.00000000e+00],\n",
       "        [0.00000000e+00, 0.00000000e+00, 6.58995771e+00, 5.88346779e-01],\n",
       "        [0.00000000e+00, 0.00000000e+00, 5.79732752e+00, 6.20729148e-01],\n",
       "        [0.00000000e+00, 0.00000000e+00, 0.00000000e+00, 5.59587622e+00],\n",
       "        [0.00000000e+00, 5.51618052e+00, 0.00000000e+00, 0.00000000e+00],\n",
       "        [2.48004496e-02, 5.03551912e+00, 0.00000000e+00, 0.00000000e+00],\n",
       "        [0.00000000e+00, 0.00000000e+00, 6.90617418e+00, 0.00000000e+00],\n",
       "        [2.89395809e+00, 4.94461954e-01, 0.00000000e+00, 2.84103918e+00],\n",
       "        [3.58680820e+00, 1.89715087e+00, 0.00000000e+00, 2.97192693e-01],\n",
       "        [0.00000000e+00, 0.00000000e+00, 9.03581679e-01, 5.56695461e+00],\n",
       "        [9.84554887e-02, 5.43678570e+00, 0.00000000e+00, 0.00000000e+00],\n",
       "        [5.37522793e+00, 0.00000000e+00, 0.00000000e+00, 1.20565379e+00],\n",
       "        [2.65723896e+00, 5.45408344e+00, 0.00000000e+00, 0.00000000e+00],\n",
       "        [5.53653538e-02, 5.16984272e+00, 0.00000000e+00, 1.02356589e+00],\n",
       "        [6.90258443e-02, 0.00000000e+00, 5.91538095e+00, 0.00000000e+00],\n",
       "        [1.14016318e+00, 0.00000000e+00, 5.46624613e+00, 3.97527039e-01],\n",
       "        [6.68340969e+00, 0.00000000e+00, 8.19656774e-02, 0.00000000e+00],\n",
       "        [5.15777349e+00, 2.24712953e-01, 0.00000000e+00, 2.13381076e+00],\n",
       "        [0.00000000e+00, 0.00000000e+00, 7.20216608e+00, 0.00000000e+00],\n",
       "        [8.78069401e-02, 3.33161235e+00, 1.65044475e+00, 2.02787519e-01],\n",
       "        [0.00000000e+00, 0.00000000e+00, 6.41685629e+00, 5.29866695e-01],\n",
       "        [4.04254770e+00, 2.78904748e+00, 0.00000000e+00, 0.00000000e+00],\n",
       "        [0.00000000e+00, 1.29092142e-01, 0.00000000e+00, 6.64460135e+00],\n",
       "        [5.27960181e-01, 0.00000000e+00, 1.35809577e+00, 5.07486677e+00],\n",
       "        [8.72807860e-01, 1.23299372e+00, 8.32068682e-01, 3.43145275e+00],\n",
       "        [4.81008816e+00, 0.00000000e+00, 2.09724355e+00, 6.65853202e-01],\n",
       "        [0.00000000e+00, 1.92765832e-01, 0.00000000e+00, 4.96628809e+00],\n",
       "        [5.47726691e-01, 0.00000000e+00, 2.57412863e+00, 3.02292109e+00],\n",
       "        [0.00000000e+00, 5.41469097e-01, 0.00000000e+00, 5.58454037e+00],\n",
       "        [4.53651994e-01, 0.00000000e+00, 1.32515383e+00, 5.39994097e+00],\n",
       "        [3.72279119e+00, 2.00795245e+00, 9.79108512e-01, 9.42818701e-01],\n",
       "        [1.02122414e+00, 0.00000000e+00, 0.00000000e+00, 5.97785854e+00],\n",
       "        [1.36093867e+00, 6.18021727e+00, 0.00000000e+00, 0.00000000e+00],\n",
       "        [2.27940559e+00, 1.06678165e-01, 4.28677654e+00, 3.91900897e-01],\n",
       "        [5.43777514e+00, 3.17414820e-01, 0.00000000e+00, 0.00000000e+00],\n",
       "        [0.00000000e+00, 0.00000000e+00, 1.05167806e+00, 5.62480688e+00],\n",
       "        [4.44325876e+00, 0.00000000e+00, 5.89088500e-01, 2.47640777e+00],\n",
       "        [5.07900953e+00, 0.00000000e+00, 1.38184297e+00, 3.18782425e+00],\n",
       "        [6.86795568e+00, 0.00000000e+00, 0.00000000e+00, 0.00000000e+00],\n",
       "        [2.37977457e+00, 0.00000000e+00, 1.34608293e+00, 4.35158396e+00],\n",
       "        [2.64730930e+00, 2.65406537e+00, 1.32149291e+00, 1.80473101e+00],\n",
       "        [4.06671906e+00, 6.26811802e-01, 1.46664333e+00, 2.00069022e+00],\n",
       "        [0.00000000e+00, 0.00000000e+00, 0.00000000e+00, 5.58855295e+00],\n",
       "        [0.00000000e+00, 4.90847397e+00, 0.00000000e+00, 0.00000000e+00],\n",
       "        [6.05473518e+00, 0.00000000e+00, 0.00000000e+00, 0.00000000e+00],\n",
       "        [2.82104969e+00, 0.00000000e+00, 3.25453401e+00, 9.87045467e-01],\n",
       "        [1.21830478e-01, 0.00000000e+00, 5.83300352e+00, 8.69154155e-01],\n",
       "        [3.70565510e+00, 3.18893695e+00, 0.00000000e+00, 0.00000000e+00],\n",
       "        [0.00000000e+00, 0.00000000e+00, 0.00000000e+00, 6.36552954e+00],\n",
       "        [8.01578686e-02, 0.00000000e+00, 6.45030499e+00, 4.92087603e-01],\n",
       "        [0.00000000e+00, 5.80901957e+00, 0.00000000e+00, 0.00000000e+00],\n",
       "        [5.24887145e-01, 0.00000000e+00, 6.53002262e+00, 1.71897203e-01],\n",
       "        [0.00000000e+00, 6.20326090e+00, 0.00000000e+00, 0.00000000e+00],\n",
       "        [5.90697575e+00, 0.00000000e+00, 1.25005090e+00, 0.00000000e+00],\n",
       "        [0.00000000e+00, 0.00000000e+00, 0.00000000e+00, 6.55542946e+00],\n",
       "        [0.00000000e+00, 0.00000000e+00, 6.10236025e+00, 7.02440560e-01],\n",
       "        [6.24501586e-01, 4.48613691e+00, 7.56505609e-01, 0.00000000e+00],\n",
       "        [0.00000000e+00, 5.83829165e+00, 0.00000000e+00, 0.00000000e+00],\n",
       "        [3.61862612e+00, 0.00000000e+00, 1.87028146e+00, 3.32293749e+00],\n",
       "        [3.81926835e-01, 0.00000000e+00, 2.96552014e+00, 5.02586985e+00],\n",
       "        [0.00000000e+00, 1.68965101e-01, 0.00000000e+00, 4.71327257e+00],\n",
       "        [3.74327087e+00, 0.00000000e+00, 2.60651064e+00, 2.62763083e-01],\n",
       "        [0.00000000e+00, 0.00000000e+00, 5.64189434e+00, 3.44695181e-01],\n",
       "        [4.98467922e+00, 2.51063895e+00, 0.00000000e+00, 0.00000000e+00],\n",
       "        [3.11957151e-01, 0.00000000e+00, 4.13072300e+00, 2.77622342e+00],\n",
       "        [4.43231297e+00, 0.00000000e+00, 5.64574718e-01, 2.81108713e+00],\n",
       "        [0.00000000e+00, 5.47754049e+00, 0.00000000e+00, 0.00000000e+00],\n",
       "        [0.00000000e+00, 5.71886587e+00, 0.00000000e+00, 0.00000000e+00],\n",
       "        [2.46648645e+00, 0.00000000e+00, 0.00000000e+00, 4.32913208e+00],\n",
       "        [0.00000000e+00, 0.00000000e+00, 0.00000000e+00, 5.60057068e+00],\n",
       "        [5.86691999e+00, 2.04449203e-02, 3.09141815e-01, 0.00000000e+00],\n",
       "        [0.00000000e+00, 3.43594241e+00, 0.00000000e+00, 2.94483280e+00],\n",
       "        [6.54268551e+00, 0.00000000e+00, 0.00000000e+00, 0.00000000e+00],\n",
       "        [2.06238222e+00, 0.00000000e+00, 2.31639361e+00, 4.38385057e+00],\n",
       "        [1.85928750e+00, 0.00000000e+00, 5.16468000e+00, 1.27083749e-01],\n",
       "        [5.87129307e+00, 0.00000000e+00, 1.25771523e-01, 2.03100294e-01],\n",
       "        [3.23083448e+00, 0.00000000e+00, 3.39809203e+00, 2.02282929e+00],\n",
       "        [0.00000000e+00, 5.27799416e+00, 0.00000000e+00, 0.00000000e+00],\n",
       "        [5.36898422e+00, 3.75225037e-01, 0.00000000e+00, 1.15740836e+00],\n",
       "        [2.60986376e+00, 7.69074440e-01, 3.87676978e+00, 5.97389221e-01],\n",
       "        [3.76704931e+00, 3.23466277e+00, 0.00000000e+00, 0.00000000e+00],\n",
       "        [0.00000000e+00, 0.00000000e+00, 0.00000000e+00, 6.19525433e+00],\n",
       "        [6.26342487e+00, 0.00000000e+00, 0.00000000e+00, 0.00000000e+00],\n",
       "        [1.65572226e+00, 5.67924023e+00, 0.00000000e+00, 0.00000000e+00],\n",
       "        [0.00000000e+00, 0.00000000e+00, 0.00000000e+00, 6.26700878e+00],\n",
       "        [0.00000000e+00, 0.00000000e+00, 0.00000000e+00, 5.71929216e+00],\n",
       "        [0.00000000e+00, 0.00000000e+00, 0.00000000e+00, 6.07372332e+00],\n",
       "        [0.00000000e+00, 0.00000000e+00, 9.56126571e-01, 4.37405586e+00],\n",
       "        [0.00000000e+00, 5.29834449e-01, 2.40614438e+00, 4.50816870e+00],\n",
       "        [0.00000000e+00, 0.00000000e+00, 0.00000000e+00, 6.25381374e+00],\n",
       "        [0.00000000e+00, 4.64291811e+00, 0.00000000e+00, 3.92576635e-01],\n",
       "        [0.00000000e+00, 0.00000000e+00, 5.58008146e+00, 9.38379943e-01],\n",
       "        [0.00000000e+00, 0.00000000e+00, 1.92847759e-01, 6.57180309e+00],\n",
       "        [5.39983749e-01, 0.00000000e+00, 1.74510106e-01, 5.75972986e+00],\n",
       "        [1.25068605e-01, 5.90343666e+00, 0.00000000e+00, 0.00000000e+00],\n",
       "        [0.00000000e+00, 0.00000000e+00, 4.98793793e+00, 0.00000000e+00],\n",
       "        [0.00000000e+00, 0.00000000e+00, 5.96173620e+00, 0.00000000e+00],\n",
       "        [0.00000000e+00, 4.82931566e+00, 0.00000000e+00, 0.00000000e+00],\n",
       "        [6.31436110e+00, 1.25353324e+00, 0.00000000e+00, 0.00000000e+00],\n",
       "        [0.00000000e+00, 0.00000000e+00, 5.85984135e+00, 1.80897892e+00],\n",
       "        [2.09484959e+00, 0.00000000e+00, 1.09932315e+00, 4.66916037e+00],\n",
       "        [0.00000000e+00, 5.01558959e-01, 0.00000000e+00, 5.01935625e+00],\n",
       "        [2.77720642e+00, 4.12687349e+00, 0.00000000e+00, 0.00000000e+00],\n",
       "        [6.95880055e-02, 5.50778055e+00, 0.00000000e+00, 0.00000000e+00],\n",
       "        [3.01517278e-01, 5.10896540e+00, 0.00000000e+00, 0.00000000e+00],\n",
       "        [2.45540476e+00, 0.00000000e+00, 4.28095388e+00, 3.44470143e-01],\n",
       "        [3.83228874e+00, 2.62113070e+00, 0.00000000e+00, 3.50535326e-02],\n",
       "        [4.31261730e+00, 4.97333765e-01, 1.40209213e-01, 1.58758056e+00],\n",
       "        [5.31686687e+00, 0.00000000e+00, 1.07756950e-01, 2.87886143e+00],\n",
       "        [0.00000000e+00, 5.61420918e+00, 0.00000000e+00, 3.26578319e-02],\n",
       "        [0.00000000e+00, 0.00000000e+00, 0.00000000e+00, 5.75175333e+00],\n",
       "        [4.02669430e+00, 2.01760888e+00, 0.00000000e+00, 0.00000000e+00],\n",
       "        [0.00000000e+00, 0.00000000e+00, 7.75601244e+00, 3.09442431e-01],\n",
       "        [3.81510687e+00, 4.07192516e+00, 0.00000000e+00, 0.00000000e+00],\n",
       "        [1.03274953e+00, 0.00000000e+00, 6.57419252e+00, 1.69366002e-01],\n",
       "        [0.00000000e+00, 0.00000000e+00, 6.88339996e+00, 1.45302460e-01],\n",
       "        [0.00000000e+00, 2.19511360e-01, 0.00000000e+00, 6.01251173e+00],\n",
       "        [0.00000000e+00, 0.00000000e+00, 0.00000000e+00, 6.15753222e+00],\n",
       "        [0.00000000e+00, 0.00000000e+00, 4.98310137e+00, 1.97468936e+00],\n",
       "        [2.77215183e-01, 4.83622026e+00, 0.00000000e+00, 0.00000000e+00],\n",
       "        [4.45998526e+00, 8.26104060e-02, 0.00000000e+00, 1.16783035e+00],\n",
       "        [0.00000000e+00, 0.00000000e+00, 2.81257536e-02, 5.73527575e+00],\n",
       "        [7.35101223e-01, 0.00000000e+00, 3.87992918e-01, 5.54123020e+00],\n",
       "        [0.00000000e+00, 4.27362156e+00, 0.00000000e+00, 5.82013000e-03],\n",
       "        [5.35501719e+00, 8.24723899e-01, 1.63522768e+00, 0.00000000e+00],\n",
       "        [0.00000000e+00, 0.00000000e+00, 7.30999231e-01, 6.74911165e+00],\n",
       "        [0.00000000e+00, 0.00000000e+00, 4.49574280e+00, 2.42962122e+00]],\n",
       "       dtype=float32),\n",
       " array([1, 1, 1, 2, 1, 3, 3, 2, 0, 0, 3, 3, 3, 0, 0, 2, 3, 3, 2, 1, 1, 2,\n",
       "        2, 0, 0, 1, 3, 1, 2, 1, 3, 0, 3, 1, 3, 3, 2, 3, 0, 0, 1, 1, 0, 0,\n",
       "        3, 1, 3, 0, 0, 2, 2, 1, 3, 1, 3, 0, 0, 1, 2, 0, 0, 0, 0, 3, 2, 0,\n",
       "        2, 1, 0, 0, 0, 3, 1, 2, 0, 0, 2, 2, 0, 3, 0, 3, 3, 2, 0, 1, 3, 0,\n",
       "        1, 0, 0, 1, 2, 3, 3, 3, 0, 1, 3, 3, 3, 3, 1, 2, 1, 2, 2, 3, 1, 1,\n",
       "        2, 1, 0, 2, 0, 0, 1, 1, 2, 2, 0, 0, 2, 1, 2, 0, 3, 0, 1, 0, 3, 3,\n",
       "        3, 3, 1, 3, 3, 2, 0, 3, 3, 2, 0, 0, 0, 0, 3, 1, 0, 2, 2, 0, 3, 2,\n",
       "        1, 2, 1, 1, 3, 2, 1, 1, 0, 0, 3, 0, 3, 1, 3, 0, 1, 1, 0, 3, 1, 1,\n",
       "        0, 2, 2, 0, 2, 1, 1, 2, 1, 3, 0, 0, 3, 3, 3, 3, 1, 3, 1, 2, 3, 3,\n",
       "        1, 2, 2, 1, 0, 2, 0, 3, 1, 1, 1, 3, 0, 0, 0, 1, 3, 1, 2, 0, 2, 2,\n",
       "        3, 3, 2, 1, 0, 3, 0, 1, 1, 3, 3], dtype=int8)]"
      ]
     },
     "execution_count": 10,
     "metadata": {},
     "output_type": "execute_result"
    }
   ],
   "source": [
    "evaluate(model, df_test)"
   ]
  },
  {
   "cell_type": "code",
   "execution_count": 11,
   "id": "62cbcecf",
   "metadata": {},
   "outputs": [
    {
     "name": "stdout",
     "output_type": "stream",
     "text": [
      "Test Accuracy:  0.947\n"
     ]
    }
   ],
   "source": [
    "vectorized_data, label_vectorized_data = evaluate(model, df)"
   ]
  },
  {
   "cell_type": "code",
   "execution_count": 12,
   "id": "69ec3263",
   "metadata": {},
   "outputs": [
    {
     "data": {
      "text/plain": [
       "array([[5.657049  , 0.        , 0.8004064 , 0.        ],\n",
       "       [6.028482  , 1.3202146 , 0.7355795 , 0.        ],\n",
       "       [5.5220814 , 1.0562409 , 0.09823424, 0.        ],\n",
       "       ...,\n",
       "       [0.        , 0.        , 0.13821816, 5.4364233 ],\n",
       "       [0.6659887 , 0.        , 0.06329691, 7.3466935 ],\n",
       "       [0.6251284 , 0.        , 0.        , 6.607492  ]], dtype=float32)"
      ]
     },
     "execution_count": 12,
     "metadata": {},
     "output_type": "execute_result"
    }
   ],
   "source": [
    "vectorized_data"
   ]
  },
  {
   "cell_type": "code",
   "execution_count": 13,
   "id": "c87a450a",
   "metadata": {},
   "outputs": [
    {
     "data": {
      "text/plain": [
       "array([0, 0, 0, ..., 3, 3, 3], dtype=int8)"
      ]
     },
     "execution_count": 13,
     "metadata": {},
     "output_type": "execute_result"
    }
   ],
   "source": [
    "label_vectorized_data"
   ]
  },
  {
   "cell_type": "code",
   "execution_count": 14,
   "id": "e2e09bdf",
   "metadata": {},
   "outputs": [],
   "source": [
    "from sklearn.neural_network import MLPClassifier\n",
    "from sklearn.datasets import make_classification\n",
    "from sklearn.model_selection import train_test_split\n",
    "\n",
    "X_train, X_test, y_train, y_test = train_test_split(vectorized_data, label_vectorized_data,\n",
    "                                                    stratify=label_vectorized_data, random_state=1)\n",
    "clf = MLPClassifier(random_state=1, hidden_layer_sizes=(4,), max_iter=1000).fit(X_train, y_train)"
   ]
  },
  {
   "cell_type": "code",
   "execution_count": 15,
   "id": "cfaea1ba",
   "metadata": {},
   "outputs": [
    {
     "data": {
      "text/plain": [
       "array([[6.9064379e-02, 8.4446305e-01, 2.3704767e-02, 6.2767774e-02],\n",
       "       [6.0158700e-04, 6.6118658e-02, 1.5919335e-03, 9.3168783e-01],\n",
       "       [8.9902133e-02, 8.5139203e-01, 2.4329893e-02, 3.4375988e-02],\n",
       "       ...,\n",
       "       [6.0158700e-04, 6.6118658e-02, 1.5919335e-03, 9.3168783e-01],\n",
       "       [6.0766976e-04, 6.6228785e-02, 1.6218402e-03, 9.3154174e-01],\n",
       "       [8.0952287e-01, 1.8366385e-01, 6.8123299e-03, 9.9915349e-07]],\n",
       "      dtype=float32)"
      ]
     },
     "execution_count": 15,
     "metadata": {},
     "output_type": "execute_result"
    }
   ],
   "source": [
    "clf.predict_proba(X_test)"
   ]
  },
  {
   "cell_type": "code",
   "execution_count": 16,
   "id": "1851ba84",
   "metadata": {},
   "outputs": [
    {
     "data": {
      "text/plain": [
       "array([1, 3, 1, 1, 0, 2, 1, 3, 1, 2, 0, 0, 3, 0, 1, 2, 3, 1, 3, 0, 2, 1,\n",
       "       3, 2, 3, 0, 2, 2, 2, 0, 3, 3, 2, 3, 0, 2, 2, 1, 3, 0, 3, 2, 2, 0,\n",
       "       1, 3, 2, 2, 2, 3, 0, 2, 3, 0, 3, 2, 0, 1, 2, 1, 0, 2, 3, 1, 2, 3,\n",
       "       0, 3, 2, 3, 1, 3, 0, 1, 2, 2, 0, 2, 2, 1, 1, 1, 3, 0, 2, 1, 0, 0,\n",
       "       1, 1, 3, 1, 2, 3, 1, 1, 1, 0, 1, 3, 0, 1, 2, 2, 2, 1, 1, 1, 0, 3,\n",
       "       1, 0, 3, 0, 1, 2, 0, 3, 3, 2, 3, 1, 2, 1, 2, 0, 1, 0, 1, 2, 2, 1,\n",
       "       3, 0, 0, 1, 2, 1, 0, 3, 2, 0, 0, 0, 1, 2, 0, 2, 0, 0, 2, 1, 3, 1,\n",
       "       2, 3, 1, 2, 2, 1, 3, 1, 2, 3, 0, 3, 3, 2, 1, 2, 0, 0, 3, 1, 2, 2,\n",
       "       2, 0, 2, 2, 3, 0, 0, 1, 0, 3, 3, 2, 3, 2, 2, 2, 3, 2, 3, 2, 1, 3,\n",
       "       3, 0, 0, 3, 3, 1, 0, 3, 1, 2, 2, 1, 0, 2, 1, 0, 0, 0, 0, 1, 1, 3,\n",
       "       0, 2, 3, 1, 2, 0, 0, 0, 0, 3, 2, 3, 3, 0, 3, 2, 0, 2, 1, 3, 3, 3,\n",
       "       1, 0, 0, 3, 1, 1, 2, 1, 0, 3, 0, 2, 0, 0, 0, 2, 1, 1, 1, 1, 3, 0,\n",
       "       2, 3, 0, 2, 0, 1, 1, 2, 2, 3, 1, 3, 1, 1, 3, 1, 0, 1, 3, 2, 3, 1,\n",
       "       1, 3, 2, 2, 2, 1, 0, 3, 1, 3, 2, 1, 0, 3, 2, 3, 2, 0, 1, 1, 0, 2,\n",
       "       1, 1, 0, 3, 0, 3, 2, 2, 3, 3, 0, 1, 2, 1, 3, 3, 1, 3, 2, 3, 1, 1,\n",
       "       0, 3, 1, 0, 1, 0, 1, 2, 1, 0, 3, 3, 3, 1, 1, 3, 2, 1, 0, 0, 2, 2,\n",
       "       0, 1, 3, 0, 0, 2, 3, 0, 1, 3, 1, 3, 1, 0, 2, 3, 3, 0, 1, 0, 3, 1,\n",
       "       1, 2, 1, 0, 0, 2, 3, 0, 2, 0, 3, 0, 1, 1, 2, 3, 1, 2, 0, 3, 0, 1,\n",
       "       2, 1, 1, 1, 3, 1, 0, 3, 3, 2, 1, 2, 3, 0, 2, 0, 2, 2, 3, 2, 2, 0,\n",
       "       2, 0, 1, 0, 2, 3, 1, 2, 0, 0, 0, 0, 2, 2, 0, 0, 3, 0, 1, 2, 1, 2,\n",
       "       3, 0, 0, 3, 1, 3, 0, 0, 3, 1, 3, 2, 2, 0, 3, 2, 3, 1, 3, 3, 0, 3,\n",
       "       2, 3, 0, 0, 1, 1, 2, 0, 0, 1, 3, 1, 1, 3, 2, 1, 0, 1, 0, 1, 1, 1,\n",
       "       3, 1, 0, 0, 3, 2, 2, 1, 2, 3, 3, 1, 0, 0, 0, 3, 1, 0, 3, 0, 2, 2,\n",
       "       1, 0, 0, 1, 3, 0, 0, 2, 1, 1, 0, 1, 1, 2, 2, 3, 3, 3, 3, 1, 0, 2,\n",
       "       1, 1, 2, 2, 3, 2, 1, 3, 2, 3, 0, 1, 1, 2, 1, 0, 0, 3, 3, 3, 1, 3,\n",
       "       1, 3, 3, 1, 2, 2, 0, 0, 1, 1, 2, 3, 3, 0, 3, 3, 2, 2, 2, 3, 1, 0,\n",
       "       0, 1, 3, 3, 0], dtype=int8)"
      ]
     },
     "execution_count": 16,
     "metadata": {},
     "output_type": "execute_result"
    }
   ],
   "source": [
    "clf.predict(X_test)"
   ]
  },
  {
   "cell_type": "code",
   "execution_count": 17,
   "id": "38244e81",
   "metadata": {},
   "outputs": [
    {
     "data": {
      "text/plain": [
       "0.9393414211438474"
      ]
     },
     "execution_count": 17,
     "metadata": {},
     "output_type": "execute_result"
    }
   ],
   "source": [
    "clf.score(X_test, y_test)"
   ]
  },
  {
   "cell_type": "code",
   "execution_count": null,
   "id": "e8fabea4",
   "metadata": {},
   "outputs": [],
   "source": []
  }
 ],
 "metadata": {
  "kernelspec": {
   "display_name": "Python [conda env:textProcessBert]",
   "language": "python",
   "name": "conda-env-textProcessBert-py"
  },
  "language_info": {
   "codemirror_mode": {
    "name": "ipython",
    "version": 3
   },
   "file_extension": ".py",
   "mimetype": "text/x-python",
   "name": "python",
   "nbconvert_exporter": "python",
   "pygments_lexer": "ipython3",
   "version": "3.9.7"
  }
 },
 "nbformat": 4,
 "nbformat_minor": 5
}
